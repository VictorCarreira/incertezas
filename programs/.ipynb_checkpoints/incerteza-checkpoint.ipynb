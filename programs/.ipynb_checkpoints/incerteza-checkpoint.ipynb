{
 "cells": [
  {
   "cell_type": "markdown",
   "id": "e1edc5ed",
   "metadata": {},
   "source": [
    "# Estudo sobre incertezas em dados de poços "
   ]
  },
  {
   "cell_type": "code",
   "execution_count": 2,
   "id": "d56a3bbd",
   "metadata": {},
   "outputs": [
    {
     "name": "stdout",
     "output_type": "stream",
     "text": [
      "Collecting uncertainties\n",
      "  Downloading uncertainties-3.1.6-py2.py3-none-any.whl (98 kB)\n",
      "\u001b[K     |████████████████████████████████| 98 kB 6.6 MB/s  eta 0:00:01\n",
      "\u001b[?25hRequirement already satisfied: future in /home/carreira/anaconda3/lib/python3.9/site-packages (from uncertainties) (0.18.2)\n",
      "Installing collected packages: uncertainties\n",
      "Successfully installed uncertainties-3.1.6\n"
     ]
    }
   ],
   "source": [
    "! pip install --upgrade uncertainties\n"
   ]
  },
  {
   "cell_type": "code",
   "execution_count": 6,
   "id": "376aecd6",
   "metadata": {},
   "outputs": [
    {
     "name": "stdout",
     "output_type": "stream",
     "text": [
      "Collecting lasio\n",
      "  Downloading lasio-0.29-py2.py3-none-any.whl (38 kB)\n",
      "Requirement already satisfied: numpy in /home/carreira/anaconda3/lib/python3.9/site-packages (from lasio) (1.20.3)\n",
      "Installing collected packages: lasio\n",
      "Successfully installed lasio-0.29\n"
     ]
    }
   ],
   "source": [
    "! pip install lasio\n"
   ]
  },
  {
   "cell_type": "code",
   "execution_count": 1,
   "id": "3a2868fb",
   "metadata": {},
   "outputs": [],
   "source": [
    "# -*- coding: utf-8 -*-\n",
    "import numpy as np\n",
    "import seaborn as sns\n",
    "import pandas as pd\n",
    "import lasio\n",
    "import matplotlib.pyplot as plt\n",
    "\n",
    "#modulos internos\n",
    "import os,sys\n",
    "sys.path.append('../modules')\n",
    "import imod\n",
    "from imod import Statistical\n",
    "from graficador import plotagem as plm2\n",
    "\n",
    "\n",
    "\n",
    "#Configurando figura e o rc parameters\n",
    "%config InlineBackend.figure_format='retina'\n",
    "plt.rcParams[\"figure.figsize\"] = (10,15)\n",
    "plt.rc('text', usetex=True)\n",
    "plt.rc('font', family='serif', size = 18)\n",
    "\n",
    "\n",
    "from uncertainties import ufloat\n",
    "from uncertainties.umath import *\n",
    "\n",
    "from os import getcwd, listdir\n",
    "from os.path import isfile, join "
   ]
  },
  {
   "cell_type": "code",
   "execution_count": null,
   "id": "17ed05b7",
   "metadata": {},
   "outputs": [],
   "source": []
  }
 ],
 "metadata": {
  "kernelspec": {
   "display_name": "Python 3 (ipykernel)",
   "language": "python",
   "name": "python3"
  },
  "language_info": {
   "codemirror_mode": {
    "name": "ipython",
    "version": 3
   },
   "file_extension": ".py",
   "mimetype": "text/x-python",
   "name": "python",
   "nbconvert_exporter": "python",
   "pygments_lexer": "ipython3",
   "version": "3.9.7"
  }
 },
 "nbformat": 4,
 "nbformat_minor": 5
}
