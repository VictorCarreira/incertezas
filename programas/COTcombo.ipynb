{
 "cells": [
  {
   "cell_type": "code",
   "execution_count": 1,
   "id": "e3372bdd",
   "metadata": {},
   "outputs": [],
   "source": [
    "# -*- coding: utf-8 -*-\n",
    "import numpy as np\n",
    "from scipy import signal\n",
    "import pandas as pd\n",
    "import lasio\n",
    "import matplotlib.pyplot as plt\n",
    "\n",
    "#modulos internos\n",
    "import os,sys\n",
    "sys.path.append('../modulos')\n",
    "import imod\n",
    "from imod import Statistical\n",
    "from graficador import plotagem as plm2\n",
    "\n",
    "\n",
    "\n",
    "#Configurando figura e o rc parameters\n",
    "%config InlineBackend.figure_format='retina'\n",
    "plt.rcParams[\"figure.figsize\"] = (20,5)\n",
    "plt.rc('text', usetex=True)\n",
    "plt.rc('font', family='serif', size = 18)\n",
    "\n",
    "#Pacote de incertezas\n",
    "from uncertainties import ufloat\n",
    "from uncertainties.umath import *\n",
    "import statistics\n",
    "\n",
    "\n",
    "\n",
    "#Plotly\n",
    "import plotly.offline as py\n",
    "import plotly.express as px\n",
    "import plotly.graph_objs as go\n",
    "import plotly.figure_factory as ff\n",
    "\n",
    "from os import getcwd, listdir\n",
    "from os.path import isfile, join "
   ]
  },
  {
   "cell_type": "code",
   "execution_count": 5,
   "id": "1379bb14",
   "metadata": {},
   "outputs": [
    {
     "name": "stdout",
     "output_type": "stream",
     "text": [
      "6281\n"
     ]
    }
   ],
   "source": [
    "#Simulação COT Achilles:\n",
    "cab = ['Depth','RHOB','Prod_1','Sed','PaleoBAT','Frac_areia','Idades','F_carbono','COma','rCO','qCO','COte','COT']\n",
    "datasimu = pd.read_csv('../antigo/ESS-138/Resultados/Simulacao_COT_138/static/Simulacao_COT_7.txt', sep='\\\\s+',\n",
    "                       skiprows=44, names = cab, usecols=(0,1,2,3,4,5,6,7,8,9,10,11,12))\n",
    "df_a = pd.DataFrame(datasimu)\n",
    "z_a = df_a[df_a.columns[0]]#prof\n",
    "COT_a = df_a[df_a.columns[12]]#COT\n",
    "print(len(df_a))"
   ]
  },
  {
   "cell_type": "code",
   "execution_count": 6,
   "id": "73648161",
   "metadata": {},
   "outputs": [
    {
     "data": {
      "text/html": [
       "<div>\n",
       "<style scoped>\n",
       "    .dataframe tbody tr th:only-of-type {\n",
       "        vertical-align: middle;\n",
       "    }\n",
       "\n",
       "    .dataframe tbody tr th {\n",
       "        vertical-align: top;\n",
       "    }\n",
       "\n",
       "    .dataframe thead th {\n",
       "        text-align: right;\n",
       "    }\n",
       "</style>\n",
       "<table border=\"1\" class=\"dataframe\">\n",
       "  <thead>\n",
       "    <tr style=\"text-align: right;\">\n",
       "      <th></th>\n",
       "      <th>Depth</th>\n",
       "      <th>RHOB</th>\n",
       "      <th>Prod_1</th>\n",
       "      <th>Sed</th>\n",
       "      <th>PaleoBAT</th>\n",
       "      <th>Frac_areia</th>\n",
       "      <th>Idades</th>\n",
       "      <th>F_carbono</th>\n",
       "      <th>COma</th>\n",
       "      <th>rCO</th>\n",
       "      <th>qCO</th>\n",
       "      <th>COte</th>\n",
       "      <th>COT</th>\n",
       "    </tr>\n",
       "  </thead>\n",
       "  <tbody>\n",
       "    <tr>\n",
       "      <th>0</th>\n",
       "      <td>2446.49</td>\n",
       "      <td>0.705857</td>\n",
       "      <td>148.113213</td>\n",
       "      <td>7.469487</td>\n",
       "      <td>992.573690</td>\n",
       "      <td>95.783240</td>\n",
       "      <td>48.851513</td>\n",
       "      <td>1.107275</td>\n",
       "      <td>0.106035</td>\n",
       "      <td>0.222193</td>\n",
       "      <td>0.021084</td>\n",
       "      <td>0.253006</td>\n",
       "      <td>0.274089</td>\n",
       "    </tr>\n",
       "    <tr>\n",
       "      <th>1</th>\n",
       "      <td>2446.99</td>\n",
       "      <td>0.705857</td>\n",
       "      <td>148.111682</td>\n",
       "      <td>7.469481</td>\n",
       "      <td>992.601492</td>\n",
       "      <td>96.384560</td>\n",
       "      <td>48.858208</td>\n",
       "      <td>1.107219</td>\n",
       "      <td>0.106035</td>\n",
       "      <td>0.222182</td>\n",
       "      <td>0.018077</td>\n",
       "      <td>0.216926</td>\n",
       "      <td>0.235004</td>\n",
       "    </tr>\n",
       "    <tr>\n",
       "      <th>2</th>\n",
       "      <td>2447.49</td>\n",
       "      <td>0.705857</td>\n",
       "      <td>148.110151</td>\n",
       "      <td>7.469482</td>\n",
       "      <td>992.629294</td>\n",
       "      <td>96.207923</td>\n",
       "      <td>48.864902</td>\n",
       "      <td>1.107163</td>\n",
       "      <td>0.106035</td>\n",
       "      <td>0.222171</td>\n",
       "      <td>0.018960</td>\n",
       "      <td>0.227525</td>\n",
       "      <td>0.246485</td>\n",
       "    </tr>\n",
       "    <tr>\n",
       "      <th>3</th>\n",
       "      <td>2447.99</td>\n",
       "      <td>0.705857</td>\n",
       "      <td>148.108620</td>\n",
       "      <td>7.469485</td>\n",
       "      <td>992.657096</td>\n",
       "      <td>95.673588</td>\n",
       "      <td>48.871595</td>\n",
       "      <td>1.107107</td>\n",
       "      <td>0.106035</td>\n",
       "      <td>0.222160</td>\n",
       "      <td>0.021632</td>\n",
       "      <td>0.259585</td>\n",
       "      <td>0.281217</td>\n",
       "    </tr>\n",
       "    <tr>\n",
       "      <th>4</th>\n",
       "      <td>2448.49</td>\n",
       "      <td>0.705857</td>\n",
       "      <td>148.107089</td>\n",
       "      <td>7.469479</td>\n",
       "      <td>992.684899</td>\n",
       "      <td>95.552952</td>\n",
       "      <td>48.878289</td>\n",
       "      <td>1.107051</td>\n",
       "      <td>0.106035</td>\n",
       "      <td>0.222149</td>\n",
       "      <td>0.022235</td>\n",
       "      <td>0.266823</td>\n",
       "      <td>0.289058</td>\n",
       "    </tr>\n",
       "    <tr>\n",
       "      <th>...</th>\n",
       "      <td>...</td>\n",
       "      <td>...</td>\n",
       "      <td>...</td>\n",
       "      <td>...</td>\n",
       "      <td>...</td>\n",
       "      <td>...</td>\n",
       "      <td>...</td>\n",
       "      <td>...</td>\n",
       "      <td>...</td>\n",
       "      <td>...</td>\n",
       "      <td>...</td>\n",
       "      <td>...</td>\n",
       "      <td>...</td>\n",
       "    </tr>\n",
       "    <tr>\n",
       "      <th>6276</th>\n",
       "      <td>5584.49</td>\n",
       "      <td>2.396497</td>\n",
       "      <td>174.166758</td>\n",
       "      <td>9.077913</td>\n",
       "      <td>639.894432</td>\n",
       "      <td>65.122104</td>\n",
       "      <td>92.694492</td>\n",
       "      <td>2.445104</td>\n",
       "      <td>0.114184</td>\n",
       "      <td>0.128169</td>\n",
       "      <td>0.174389</td>\n",
       "      <td>1.302442</td>\n",
       "      <td>1.476832</td>\n",
       "    </tr>\n",
       "    <tr>\n",
       "      <th>6277</th>\n",
       "      <td>5584.99</td>\n",
       "      <td>2.396497</td>\n",
       "      <td>174.166758</td>\n",
       "      <td>9.077913</td>\n",
       "      <td>639.894432</td>\n",
       "      <td>65.122104</td>\n",
       "      <td>92.694492</td>\n",
       "      <td>2.445104</td>\n",
       "      <td>0.114184</td>\n",
       "      <td>0.128169</td>\n",
       "      <td>0.174389</td>\n",
       "      <td>1.302442</td>\n",
       "      <td>1.476832</td>\n",
       "    </tr>\n",
       "    <tr>\n",
       "      <th>6278</th>\n",
       "      <td>5585.49</td>\n",
       "      <td>2.396497</td>\n",
       "      <td>174.166758</td>\n",
       "      <td>9.077913</td>\n",
       "      <td>639.894432</td>\n",
       "      <td>65.122104</td>\n",
       "      <td>92.694492</td>\n",
       "      <td>2.445104</td>\n",
       "      <td>0.114184</td>\n",
       "      <td>0.128169</td>\n",
       "      <td>0.174389</td>\n",
       "      <td>1.302442</td>\n",
       "      <td>1.476832</td>\n",
       "    </tr>\n",
       "    <tr>\n",
       "      <th>6279</th>\n",
       "      <td>5585.99</td>\n",
       "      <td>2.396497</td>\n",
       "      <td>174.166758</td>\n",
       "      <td>9.077913</td>\n",
       "      <td>639.894432</td>\n",
       "      <td>65.122104</td>\n",
       "      <td>92.694492</td>\n",
       "      <td>2.445104</td>\n",
       "      <td>0.114184</td>\n",
       "      <td>0.128169</td>\n",
       "      <td>0.174389</td>\n",
       "      <td>1.302442</td>\n",
       "      <td>1.476832</td>\n",
       "    </tr>\n",
       "    <tr>\n",
       "      <th>6280</th>\n",
       "      <td>5586.49</td>\n",
       "      <td>2.396497</td>\n",
       "      <td>174.166758</td>\n",
       "      <td>9.077913</td>\n",
       "      <td>639.894432</td>\n",
       "      <td>65.122104</td>\n",
       "      <td>92.694492</td>\n",
       "      <td>2.445104</td>\n",
       "      <td>0.114184</td>\n",
       "      <td>0.128169</td>\n",
       "      <td>0.174389</td>\n",
       "      <td>1.302442</td>\n",
       "      <td>1.476832</td>\n",
       "    </tr>\n",
       "  </tbody>\n",
       "</table>\n",
       "<p>6281 rows × 13 columns</p>\n",
       "</div>"
      ],
      "text/plain": [
       "        Depth      RHOB      Prod_1       Sed    PaleoBAT  Frac_areia  \\\n",
       "0     2446.49  0.705857  148.113213  7.469487  992.573690   95.783240   \n",
       "1     2446.99  0.705857  148.111682  7.469481  992.601492   96.384560   \n",
       "2     2447.49  0.705857  148.110151  7.469482  992.629294   96.207923   \n",
       "3     2447.99  0.705857  148.108620  7.469485  992.657096   95.673588   \n",
       "4     2448.49  0.705857  148.107089  7.469479  992.684899   95.552952   \n",
       "...       ...       ...         ...       ...         ...         ...   \n",
       "6276  5584.49  2.396497  174.166758  9.077913  639.894432   65.122104   \n",
       "6277  5584.99  2.396497  174.166758  9.077913  639.894432   65.122104   \n",
       "6278  5585.49  2.396497  174.166758  9.077913  639.894432   65.122104   \n",
       "6279  5585.99  2.396497  174.166758  9.077913  639.894432   65.122104   \n",
       "6280  5586.49  2.396497  174.166758  9.077913  639.894432   65.122104   \n",
       "\n",
       "         Idades  F_carbono      COma       rCO       qCO      COte       COT  \n",
       "0     48.851513   1.107275  0.106035  0.222193  0.021084  0.253006  0.274089  \n",
       "1     48.858208   1.107219  0.106035  0.222182  0.018077  0.216926  0.235004  \n",
       "2     48.864902   1.107163  0.106035  0.222171  0.018960  0.227525  0.246485  \n",
       "3     48.871595   1.107107  0.106035  0.222160  0.021632  0.259585  0.281217  \n",
       "4     48.878289   1.107051  0.106035  0.222149  0.022235  0.266823  0.289058  \n",
       "...         ...        ...       ...       ...       ...       ...       ...  \n",
       "6276  92.694492   2.445104  0.114184  0.128169  0.174389  1.302442  1.476832  \n",
       "6277  92.694492   2.445104  0.114184  0.128169  0.174389  1.302442  1.476832  \n",
       "6278  92.694492   2.445104  0.114184  0.128169  0.174389  1.302442  1.476832  \n",
       "6279  92.694492   2.445104  0.114184  0.128169  0.174389  1.302442  1.476832  \n",
       "6280  92.694492   2.445104  0.114184  0.128169  0.174389  1.302442  1.476832  \n",
       "\n",
       "[6281 rows x 13 columns]"
      ]
     },
     "execution_count": 6,
     "metadata": {},
     "output_type": "execute_result"
    }
   ],
   "source": [
    "df_a"
   ]
  },
  {
   "cell_type": "code",
   "execution_count": 7,
   "id": "4fb6c294",
   "metadata": {},
   "outputs": [
    {
     "name": "stdout",
     "output_type": "stream",
     "text": [
      "8     Depth   COT\n",
      "0  5283.0  1.41\n",
      "1  5445.0  1.36\n",
      "2  5463.0  1.39\n",
      "3  5481.0  1.69\n",
      "4  5499.0  1.79\n",
      "5  5517.0  2.00\n",
      "6  5535.0  2.08\n",
      "7  5553.0  1.87\n"
     ]
    }
   ],
   "source": [
    "#Simulação COT Geoquímmica:\n",
    "cab = ['Depth','COT']\n",
    "datasimu = pd.read_csv('../entradas/COT_geoq/4ESS138.txt', sep='\\\\s+',\n",
    "                       skiprows=1, names = cab, usecols=(0,1))\n",
    "df_q = pd.DataFrame(datasimu)\n",
    "z_q = df_q[df_q.columns[0]]#prof\n",
    "COT_q = df_q[df_q.columns[1]]#COT\n",
    "print(len(df_q),df_q)"
   ]
  },
  {
   "cell_type": "code",
   "execution_count": 8,
   "id": "d27e18e4",
   "metadata": {},
   "outputs": [
    {
     "data": {
      "image/png": "[encoded data removed]",
      "text/plain": [
       "<Figure size 1440x360 with 1 Axes>"
      ]
     },
     "metadata": {
      "image/png": {
       "height": 351,
       "width": 1178
      },
      "needs_background": "light"
     },
     "output_type": "display_data"
    }
   ],
   "source": [
    "plt.plot( z_a, COT_a,'r+',z_q,COT_q,'b+')\n",
    "plt.grid()\n",
    "plt.legend(['COT Achilles','COT geoq'], loc='best')\n",
    "plt.xlabel('Depth(m)')\n",
    "plt.ylabel('COT')\n",
    "plt.title(\"$4ESS138$\")\n",
    "plt.savefig('../imagens/achillesXgeoq_4ESS138.png')\n",
    "plt.show()"
   ]
  },
  {
   "cell_type": "code",
   "execution_count": 9,
   "id": "d69623d8",
   "metadata": {},
   "outputs": [],
   "source": [
    "#II - filtragem visual: selecao de um alvo especifico idade ou grupo\n",
    "topo =5283.0\n",
    "base = 5553.0\n",
    "df_a=df_a[(df_a['Depth'] >= topo) & (df_a['Depth'] <= base)] # alvo! "
   ]
  },
  {
   "cell_type": "code",
   "execution_count": 10,
   "id": "147a4b65",
   "metadata": {},
   "outputs": [],
   "source": [
    "z_a = df_a[df_a.columns[0]]#prof\n",
    "COT_a = df_a[df_a.columns[12]]#COT"
   ]
  },
  {
   "cell_type": "code",
   "execution_count": 11,
   "id": "7672fa4c",
   "metadata": {},
   "outputs": [
    {
     "data": {
      "image/png": "[encoded data removed]",
      "text/plain": [
       "<Figure size 1440x360 with 1 Axes>"
      ]
     },
     "metadata": {
      "image/png": {
       "height": 351,
       "width": 1178
      },
      "needs_background": "light"
     },
     "output_type": "display_data"
    }
   ],
   "source": [
    "plt.plot( z_a, COT_a,'r+',z_q,COT_q,'b+')\n",
    "plt.grid()\n",
    "plt.legend(['COT Achilles','COT geoq'], loc='best')\n",
    "plt.xlabel('Depth(m)')\n",
    "plt.ylabel('COT')\n",
    "plt.title(\"$4ESS138$\")\n",
    "plt.savefig('../imagens/achillesXgeoq_4ESS138_alvo.png')\n",
    "plt.show()"
   ]
  },
  {
   "cell_type": "code",
   "execution_count": 18,
   "id": "cef2d6e6",
   "metadata": {},
   "outputs": [
    {
     "data": {
      "application/vnd.plotly.v1+json": {
       "config": {
        "plotlyServerURL": "https://plot.ly"
       },
       "data": [
        {
         "mode": "markers",
         "type": "scatter",
         "x": [
          5283.49,
          5283.99,
          5284.49,
          5284.99,
          5285.49,
          5285.99,
          5286.49,
          5286.99,
          5287.49,
          5287.99,
          5288.49,
          5288.99,
          5289.49,
          5289.99,
          5290.49,
          5290.99,
          5291.49,
          5291.99,
          5292.49,
          5292.99,
          5293.49,
          5293.99,
          5294.49,
          5294.99,
          5295.49,
          5295.99,
          5296.49,
          5296.99,
          5297.49,
          5297.99,
          5298.49,
          5298.99,
          5299.49,
          5299.99,
          5300.49,
          5300.99,
          5301.49,
          5301.99,
          5302.49,
          5302.99,
          5303.49,
          5303.99,
          5304.49,
          5304.99,
          5305.49,
          5305.99,
          5306.49,
          5306.99,
          5307.49,
          5307.99,
          5308.49,
          5308.99,
          5309.49,
          5309.99,
          5310.49,
          5310.99,
          5311.49,
          5311.99,
          5312.49,
          5312.99,
          5313.49,
          5313.99,
          5314.49,
          5314.99,
          5315.49,
          5315.99,
          5316.49,
          5316.99,
          5317.49,
          5317.99,
          5318.49,
          5318.99,
          5319.49,
          5319.99,
          5320.49,
          5320.99,
          5321.49,
          5321.99,
          5322.49,
          5322.99,
          5323.49,
          5323.99,
          5324.49,
          5324.99,
          5325.49,
          5325.99,
          5326.49,
          5326.99,
          5327.49,
          5327.99,
          5328.49,
          5328.99,
          5329.49,
          5329.99,
          5330.49,
          5330.99,
          5331.49,
          5331.99,
          5332.49,
          5332.99,
          5333.49,
          5333.99,
          5334.49,
          5334.99,
          5335.49,
          5335.99,
          5336.49,
          5336.99,
          5337.49,
          5337.99,
          5338.49,
          5338.99,
          5339.49,
          5339.99,
          5340.49,
          5340.99,
          5341.49,
          5341.99,
          5342.49,
          5342.99,
          5343.49,
          5343.99,
          5344.49,
          5344.99,
          5345.49,
          5345.99,
          5346.49,
          5346.99,
          5347.49,
          5347.99,
          5348.49,
          5348.99,
          5349.49,
          5349.99,
          5350.49,
          5350.99,
          5351.49,
          5351.99,
          5352.49,
          5352.99,
          5353.49,
          5353.99,
          5354.49,
          5354.99,
          5355.49,
          5355.99,
          5356.49,
          5356.99,
          5357.49,
          5357.99,
          5358.49,
          5358.99,
          5359.49,
          5359.99,
          5360.49,
          5360.99,
          5361.49,
          5361.99,
          5362.49,
          5362.99,
          5363.49,
          5363.99,
          5364.49,
          5364.99,
          5365.49,
          5365.99,
          5366.49,
          5366.99,
          5367.49,
          5367.99,
          5368.49,
          5368.99,
          5369.49,
          5369.99,
          5370.49,
          5370.99,
          5371.49,
          5371.99,
          5372.49,
          5372.99,
          5373.49,
          5373.99,
          5374.49,
          5374.99,
          5375.49,
          5375.99,
          5376.49,
          5376.99,
          5377.49,
          5377.99,
          5378.49,
          5378.99,
          5379.49,
          5379.99,
          5380.49,
          5380.99,
          5381.49,
          5381.99,
          5382.49,
          5382.99,
          5383.49,
          5383.99,
          5384.49,
          5384.99,
          5385.49,
          5385.99,
          5386.49,
          5386.99,
          5387.49,
          5387.99,
          5388.49,
          5388.99,
          5389.49,
          5389.99,
          5390.49,
          5390.99,
          5391.49,
          5391.99,
          5392.49,
          5392.99,
          5393.49,
          5393.99,
          5394.49,
          5394.99,
          5395.49,
          5395.99,
          5396.49,
          5396.99,
          5397.49,
          5397.99,
          5398.49,
          5398.99,
          5399.49,
          5399.99,
          5400.49,
          5400.99,
          5401.49,
          5401.99,
          5402.49,
          5402.99,
          5403.49,
          5403.99,
          5404.49,
          5404.99,
          5405.49,
          5405.99,
          5406.49,
          5406.99,
          5407.49,
          5407.99,
          5408.49,
          5408.99,
          5409.49,
          5409.99,
          5410.49,
          5410.99,
          5411.49,
          5411.99,
          5412.49,
          5412.99,
          5413.49,
          5413.99,
          5414.49,
          5414.99,
          5415.49,
          5415.99,
          5416.49,
          5416.99,
          5417.49,
          5417.99,
          5418.49,
          5418.99,
          5419.49,
          5419.99,
          5420.49,
          5420.99,
          5421.49,
          5421.99,
          5422.49,
          5422.99,
          5423.49,
          5423.99,
          5424.49,
          5424.99,
          5425.49,
          5425.99,
          5426.49,
          5426.99,
          5427.49,
          5427.99,
          5428.49,
          5428.99,
          5429.49,
          5429.99,
          5430.49,
          5430.99,
          5431.49,
          5431.99,
          5432.49,
          5432.99,
          5433.49,
          5433.99,
          5434.49,
          5434.99,
          5435.49,
          5435.99,
          5436.49,
          5436.99,
          5437.49,
          5437.99,
          5438.49,
          5438.99,
          5439.49,
          5439.99,
          5440.49,
          5440.99,
          5441.49,
          5441.99,
          5442.49,
          5442.99,
          5443.49,
          5443.99,
          5444.49,
          5444.99,
          5445.49,
          5445.99,
          5446.49,
          5446.99,
          5447.49,
          5447.99,
          5448.49,
          5448.99,
          5449.49,
          5449.99,
          5450.49,
          5450.99,
          5451.49,
          5451.99,
          5452.49,
          5452.99,
          5453.49,
          5453.99,
          5454.49,
          5454.99,
          5455.49,
          5455.99,
          5456.49,
          5456.99,
          5457.49,
          5457.99,
          5458.49,
          5458.99,
          5459.49,
          5459.99,
          5460.49,
          5460.99,
          5461.49,
          5461.99,
          5462.49,
          5462.99,
          5463.49,
          5463.99,
          5464.49,
          5464.99,
          5465.49,
          5465.99,
          5466.49,
          5466.99,
          5467.49,
          5467.99,
          5468.49,
          5468.99,
          5469.49,
          5469.99,
          5470.49,
          5470.99,
          5471.49,
          5471.99,
          5472.49,
          5472.99,
          5473.49,
          5473.99,
          5474.49,
          5474.99,
          5475.49,
          5475.99,
          5476.49,
          5476.99,
          5477.49,
          5477.99,
          5478.49,
          5478.99,
          5479.49,
          5479.99,
          5480.49,
          5480.99,
          5481.49,
          5481.99,
          5482.49,
          5482.99,
          5483.49,
          5483.99,
          5484.49,
          5484.99,
          5485.49,
          5485.99,
          5486.49,
          5486.99,
          5487.49,
          5487.99,
          5488.49,
          5488.99,
          5489.49,
          5489.99,
          5490.49,
          5490.99,
          5491.49,
          5491.99,
          5492.49,
          5492.99,
          5493.49,
          5493.99,
          5494.49,
          5494.99,
          5495.49,
          5495.99,
          5496.49,
          5496.99,
          5497.49,
          5497.99,
          5498.49,
          5498.99,
          5499.49,
          5499.99,
          5500.49,
          5500.99,
          5501.49,
          5501.99,
          5502.49,
          5502.99,
          5503.49,
          5503.99,
          5504.49,
          5504.99,
          5505.49,
          5505.99,
          5506.49,
          5506.99,
          5507.49,
          5507.99,
          5508.49,
          5508.99,
          5509.49,
          5509.99,
          5510.49,
          5510.99,
          5511.49,
          5511.99,
          5512.49,
          5512.99,
          5513.49,
          5513.99,
          5514.49,
          5514.99,
          5515.49,
          5515.99,
          5516.49,
          5516.99,
          5517.49,
          5517.99,
          5518.49,
          5518.99,
          5519.49,
          5519.99,
          5520.49,
          5520.99,
          5521.49,
          5521.99,
          5522.49,
          5522.99,
          5523.49,
          5523.99,
          5524.49,
          5524.99,
          5525.49,
          5525.99,
          5526.49,
          5526.99,
          5527.49,
          5527.99,
          5528.49,
          5528.99,
          5529.49,
          5529.99,
          5530.49,
          5530.99,
          5531.49,
          5531.99,
          5532.49,
          5532.99,
          5533.49,
          5533.99,
          5534.49,
          5534.99,
          5535.49,
          5535.99,
          5536.49,
          5536.99,
          5537.49,
          5537.99,
          5538.49,
          5538.99,
          5539.49,
          5539.99,
          5540.49,
          5540.99,
          5541.49,
          5541.99,
          5542.49,
          5542.99,
          5543.49,
          5543.99,
          5544.49,
          5544.99,
          5545.49,
          5545.99,
          5546.49,
          5546.99,
          5547.49,
          5547.99,
          5548.49,
          5548.99,
          5549.49,
          5549.99,
          5550.49,
          5550.99,
          5551.49,
          5551.99,
          5552.49,
          5552.99
         ],
         "y": [
          1.316318,
          1.492409,
          1.602484,
          1.598505,
          1.600302,
          1.518179,
          1.467866,
          1.595865,
          1.579738,
          1.149132,
          1.326088,
          1.570408,
          1.427535,
          1.447337,
          1.550278,
          1.426618,
          1.520503,
          1.565445,
          1.420094,
          1.342029,
          1.540592,
          1.587085,
          1.48407,
          1.513796,
          1.589978,
          1.487,
          1.300404,
          1.620838,
          1.551747,
          1.422481,
          1.342467,
          1.434635,
          1.588472,
          1.354677,
          1.337673,
          1.616379,
          1.211141,
          1.543823,
          1.278842,
          1.384211,
          1.466779,
          1.34592,
          1.485687,
          1.617365,
          1.5328,
          1.535343,
          1.56948,
          1.593774,
          1.486853,
          1.547984,
          1.593786,
          1.624646,
          1.398101,
          1.495901,
          1.431849,
          1.477459,
          1.461956,
          1.492989,
          1.473717,
          1.468827,
          1.381744,
          1.544533,
          1.320356,
          1.413611,
          1.565172,
          1.57486,
          1.538596,
          1.539724,
          1.548996,
          1.309994,
          1.106837,
          1.022068,
          0.724232,
          0.595854,
          0.695792,
          0.679401,
          0.588025,
          0.305919,
          0.04521,
          0.004074,
          0.203965,
          0.643374,
          0.833891,
          0.770851,
          0.605592,
          0.725979,
          1.009321,
          1.375052,
          1.129652,
          1.209694,
          1.325992,
          1.621436,
          1.447336,
          1.487315,
          1.496773,
          1.419265,
          1.480329,
          1.606545,
          1.552336,
          1.55552,
          1.529629,
          1.547892,
          1.551127,
          1.563458,
          1.566122,
          1.574942,
          1.581861,
          1.623647,
          1.512802,
          1.621303,
          1.585473,
          1.560997,
          1.547475,
          1.580666,
          1.329845,
          0.846586,
          0.877875,
          0.978021,
          0.819333,
          0.765829,
          0.979219,
          1.525524,
          0.969763,
          0.873819,
          1.104856,
          1.282665,
          1.344293,
          1.595877,
          1.586375,
          1.578375,
          1.568469,
          1.552247,
          1.528682,
          1.516604,
          1.524342,
          1.519639,
          1.56996,
          1.60956,
          1.594067,
          1.575646,
          1.540998,
          1.556474,
          1.543536,
          1.539391,
          1.568106,
          1.570354,
          1.556238,
          1.530376,
          1.572227,
          1.517191,
          1.509363,
          1.510664,
          1.532259,
          1.529014,
          1.515654,
          1.51415,
          1.511485,
          1.517451,
          1.525436,
          1.508319,
          1.593488,
          1.134018,
          1.352823,
          1.493734,
          1.342376,
          1.375014,
          1.422078,
          1.280204,
          1.250689,
          1.266131,
          1.601079,
          1.611557,
          1.42307,
          1.590721,
          1.567599,
          1.59584,
          1.605985,
          1.591405,
          1.481771,
          1.588311,
          1.246395,
          1.293731,
          1.397556,
          1.515984,
          1.536832,
          1.622118,
          1.591775,
          1.544866,
          1.57266,
          1.602226,
          1.616938,
          1.603299,
          1.597774,
          1.576935,
          1.580422,
          1.576829,
          1.58748,
          1.588758,
          1.614528,
          1.592674,
          1.55024,
          1.548224,
          1.544737,
          1.546307,
          1.547907,
          1.565905,
          1.517158,
          1.484494,
          1.530716,
          1.511312,
          1.51785,
          1.530245,
          1.525055,
          1.544369,
          1.555265,
          1.548671,
          1.530126,
          1.545973,
          1.571701,
          1.577822,
          1.365998,
          1.434941,
          1.607384,
          1.587974,
          1.581552,
          1.574794,
          1.220551,
          0.894017,
          1.002179,
          1.609257,
          1.348845,
          1.37293,
          1.464573,
          1.373231,
          1.263573,
          1.308158,
          1.241683,
          1.128834,
          1.311451,
          1.492152,
          1.458886,
          1.292212,
          1.271758,
          1.389311,
          1.441668,
          1.535454,
          1.440282,
          1.449812,
          1.549663,
          1.564344,
          1.54478,
          1.559433,
          1.61833,
          1.126071,
          1.526006,
          1.518603,
          1.612139,
          1.611171,
          1.240357,
          1.561298,
          1.500822,
          1.383722,
          1.280103,
          1.274914,
          1.427339,
          1.573366,
          1.598288,
          1.596431,
          1.601592,
          1.590088,
          1.307439,
          1.221779,
          1.217802,
          1.219273,
          1.235686,
          1.320966,
          1.403857,
          1.527459,
          1.60036,
          1.544435,
          1.615766,
          1.444771,
          1.191267,
          1.156082,
          1.200129,
          1.264379,
          1.202025,
          1.208763,
          1.268496,
          1.418144,
          1.35815,
          1.34472,
          1.338317,
          1.330967,
          1.285549,
          1.310051,
          1.333407,
          1.321365,
          1.376695,
          1.486331,
          1.459777,
          1.479996,
          1.475763,
          1.479378,
          1.403096,
          1.451868,
          1.403305,
          1.442891,
          1.584896,
          1.58011,
          1.46558,
          1.43371,
          1.321046,
          1.311415,
          1.314919,
          1.310635,
          1.288751,
          1.285761,
          1.284423,
          1.414711,
          1.546571,
          1.58676,
          1.543024,
          1.480209,
          1.440834,
          1.227663,
          1.357724,
          1.302032,
          1.203607,
          1.221233,
          1.333662,
          1.499442,
          1.579828,
          1.588408,
          1.547515,
          1.356366,
          1.275943,
          1.21707,
          1.187645,
          1.237854,
          1.191245,
          1.254381,
          1.44928,
          1.401024,
          1.384462,
          1.312707,
          1.376806,
          1.604739,
          1.473744,
          1.322197,
          1.286597,
          1.315491,
          1.448146,
          1.499837,
          1.481159,
          1.596582,
          1.491961,
          1.356918,
          1.388676,
          1.372133,
          1.379278,
          1.511364,
          1.58472,
          1.585976,
          1.603425,
          1.539824,
          1.475709,
          1.251545,
          1.434384,
          1.546977,
          1.588619,
          1.567452,
          0.961138,
          1.40563,
          1.532667,
          1.390062,
          1.278263,
          1.272272,
          1.284993,
          1.330487,
          1.292816,
          1.258031,
          1.287473,
          1.268014,
          1.264448,
          1.256791,
          1.38138,
          1.462349,
          1.479235,
          1.554215,
          1.584991,
          1.550395,
          1.481819,
          1.463197,
          1.343673,
          1.296501,
          1.302793,
          1.294272,
          1.264297,
          1.336858,
          1.345926,
          1.386558,
          1.474389,
          1.490814,
          1.468003,
          1.43838,
          1.417113,
          1.317128,
          1.324423,
          1.345384,
          1.330185,
          1.328427,
          1.319301,
          1.340963,
          1.305972,
          1.305956,
          1.270461,
          1.281276,
          1.263255,
          1.316877,
          1.278895,
          1.340211,
          1.465521,
          1.509488,
          1.448091,
          1.385654,
          1.229599,
          1.237661,
          1.266438,
          1.35228,
          1.480937,
          1.343608,
          1.283318,
          1.220146,
          1.221034,
          1.227065,
          1.326925,
          1.321005,
          1.194194,
          1.210479,
          1.31475,
          1.250214,
          1.233538,
          1.285235,
          1.252902,
          1.261084,
          1.247079,
          1.24092,
          1.307302,
          1.438806,
          1.579754,
          1.452232,
          1.119181,
          1.057121,
          1.229067,
          1.226328,
          1.251533,
          1.25259,
          1.369371,
          1.456531,
          1.544522,
          1.373269,
          1.239531,
          1.20254,
          1.232381,
          1.218597,
          1.247131,
          1.331594,
          1.530524,
          1.369225,
          1.0905,
          1.190423,
          1.191906,
          1.191829,
          1.243455,
          1.282616,
          1.345309,
          1.324364,
          1.259627,
          1.19957,
          1.173736,
          1.215894,
          1.248726,
          1.400579,
          1.389071,
          1.399953,
          1.481315,
          1.499337,
          1.421369,
          1.160978,
          1.172378,
          1.215322,
          1.204848,
          1.236548,
          1.231045,
          1.236646,
          1.248464,
          1.286064,
          1.29817,
          1.381663,
          1.45507,
          1.447434,
          1.386371,
          1.361854,
          1.279831,
          1.243875,
          1.270074,
          1.287385,
          1.26522,
          1.226026,
          1.374106,
          1.459131,
          1.349811,
          1.253228,
          1.22397,
          1.189222,
          1.194878,
          1.269491,
          1.315285,
          1.480061,
          1.132894,
          1.107587,
          1.11698,
          1.128922,
          1.123921,
          1.109072,
          1.488997,
          1.312871,
          1.211364,
          1.257127,
          1.341517,
          1.456967,
          1.47851,
          1.495336,
          1.532151,
          1.476832,
          1.476832,
          1.476832,
          1.476832,
          1.476832
         ]
        },
        {
         "mode": "markers",
         "type": "scatter",
         "x": [
          5283,
          5445,
          5463,
          5481,
          5499,
          5517,
          5535,
          5553
         ],
         "y": [
          1.41,
          1.36,
          1.39,
          1.69,
          1.79,
          2,
          2.08,
          1.87
         ]
        }
       ],
       "layout": {
        "template": {
         "data": {
          "bar": [
           {
            "error_x": {
             "color": "#2a3f5f"
            },
            "error_y": {
             "color": "#2a3f5f"
            },
            "marker": {
             "line": {
              "color": "#E5ECF6",
              "width": 0.5
             },
             "pattern": {
              "fillmode": "overlay",
              "size": 10,
              "solidity": 0.2
             }
            },
            "type": "bar"
           }
          ],
          "barpolar": [
           {
            "marker": {
             "line": {
              "color": "#E5ECF6",
              "width": 0.5
             },
             "pattern": {
              "fillmode": "overlay",
              "size": 10,
              "solidity": 0.2
             }
            },
            "type": "barpolar"
           }
          ],
          "carpet": [
           {
            "aaxis": {
             "endlinecolor": "#2a3f5f",
             "gridcolor": "white",
             "linecolor": "white",
             "minorgridcolor": "white",
             "startlinecolor": "#2a3f5f"
            },
            "baxis": {
             "endlinecolor": "#2a3f5f",
             "gridcolor": "white",
             "linecolor": "white",
             "minorgridcolor": "white",
             "startlinecolor": "#2a3f5f"
            },
            "type": "carpet"
           }
          ],
          "choropleth": [
           {
            "colorbar": {
             "outlinewidth": 0,
             "ticks": ""
            },
            "type": "choropleth"
           }
          ],
          "contour": [
           {
            "colorbar": {
             "outlinewidth": 0,
             "ticks": ""
            },
            "colorscale": [
             [
              0,
              "#0d0887"
             ],
             [
              0.1111111111111111,
              "#46039f"
             ],
             [
              0.2222222222222222,
              "#7201a8"
             ],
             [
              0.3333333333333333,
              "#9c179e"
             ],
             [
              0.4444444444444444,
              "#bd3786"
             ],
             [
              0.5555555555555556,
              "#d8576b"
             ],
             [
              0.6666666666666666,
              "#ed7953"
             ],
             [
              0.7777777777777778,
              "#fb9f3a"
             ],
             [
              0.8888888888888888,
              "#fdca26"
             ],
             [
              1,
              "#f0f921"
             ]
            ],
            "type": "contour"
           }
          ],
          "contourcarpet": [
           {
            "colorbar": {
             "outlinewidth": 0,
             "ticks": ""
            },
            "type": "contourcarpet"
           }
          ],
          "heatmap": [
           {
            "colorbar": {
             "outlinewidth": 0,
             "ticks": ""
            },
            "colorscale": [
             [
              0,
              "#0d0887"
             ],
             [
              0.1111111111111111,
              "#46039f"
             ],
             [
              0.2222222222222222,
              "#7201a8"
             ],
             [
              0.3333333333333333,
              "#9c179e"
             ],
             [
              0.4444444444444444,
              "#bd3786"
             ],
             [
              0.5555555555555556,
              "#d8576b"
             ],
             [
              0.6666666666666666,
              "#ed7953"
             ],
             [
              0.7777777777777778,
              "#fb9f3a"
             ],
             [
              0.8888888888888888,
              "#fdca26"
             ],
             [
              1,
              "#f0f921"
             ]
            ],
            "type": "heatmap"
           }
          ],
          "heatmapgl": [
           {
            "colorbar": {
             "outlinewidth": 0,
             "ticks": ""
            },
            "colorscale": [
             [
              0,
              "#0d0887"
             ],
             [
              0.1111111111111111,
              "#46039f"
             ],
             [
              0.2222222222222222,
              "#7201a8"
             ],
             [
              0.3333333333333333,
              "#9c179e"
             ],
             [
              0.4444444444444444,
              "#bd3786"
             ],
             [
              0.5555555555555556,
              "#d8576b"
             ],
             [
              0.6666666666666666,
              "#ed7953"
             ],
             [
              0.7777777777777778,
              "#fb9f3a"
             ],
             [
              0.8888888888888888,
              "#fdca26"
             ],
             [
              1,
              "#f0f921"
             ]
            ],
            "type": "heatmapgl"
           }
          ],
          "histogram": [
           {
            "marker": {
             "pattern": {
              "fillmode": "overlay",
              "size": 10,
              "solidity": 0.2
             }
            },
            "type": "histogram"
           }
          ],
          "histogram2d": [
           {
            "colorbar": {
             "outlinewidth": 0,
             "ticks": ""
            },
            "colorscale": [
             [
              0,
              "#0d0887"
             ],
             [
              0.1111111111111111,
              "#46039f"
             ],
             [
              0.2222222222222222,
              "#7201a8"
             ],
             [
              0.3333333333333333,
              "#9c179e"
             ],
             [
              0.4444444444444444,
              "#bd3786"
             ],
             [
              0.5555555555555556,
              "#d8576b"
             ],
             [
              0.6666666666666666,
              "#ed7953"
             ],
             [
              0.7777777777777778,
              "#fb9f3a"
             ],
             [
              0.8888888888888888,
              "#fdca26"
             ],
             [
              1,
              "#f0f921"
             ]
            ],
            "type": "histogram2d"
           }
          ],
          "histogram2dcontour": [
           {
            "colorbar": {
             "outlinewidth": 0,
             "ticks": ""
            },
            "colorscale": [
             [
              0,
              "#0d0887"
             ],
             [
              0.1111111111111111,
              "#46039f"
             ],
             [
              0.2222222222222222,
              "#7201a8"
             ],
             [
              0.3333333333333333,
              "#9c179e"
             ],
             [
              0.4444444444444444,
              "#bd3786"
             ],
             [
              0.5555555555555556,
              "#d8576b"
             ],
             [
              0.6666666666666666,
              "#ed7953"
             ],
             [
              0.7777777777777778,
              "#fb9f3a"
             ],
             [
              0.8888888888888888,
              "#fdca26"
             ],
             [
              1,
              "#f0f921"
             ]
            ],
            "type": "histogram2dcontour"
           }
          ],
          "mesh3d": [
           {
            "colorbar": {
             "outlinewidth": 0,
             "ticks": ""
            },
            "type": "mesh3d"
           }
          ],
          "parcoords": [
           {
            "line": {
             "colorbar": {
              "outlinewidth": 0,
              "ticks": ""
             }
            },
            "type": "parcoords"
           }
          ],
          "pie": [
           {
            "automargin": true,
            "type": "pie"
           }
          ],
          "scatter": [
           {
            "marker": {
             "colorbar": {
              "outlinewidth": 0,
              "ticks": ""
             }
            },
            "type": "scatter"
           }
          ],
          "scatter3d": [
           {
            "line": {
             "colorbar": {
              "outlinewidth": 0,
              "ticks": ""
             }
            },
            "marker": {
             "colorbar": {
              "outlinewidth": 0,
              "ticks": ""
             }
            },
            "type": "scatter3d"
           }
          ],
          "scattercarpet": [
           {
            "marker": {
             "colorbar": {
              "outlinewidth": 0,
              "ticks": ""
             }
            },
            "type": "scattercarpet"
           }
          ],
          "scattergeo": [
           {
            "marker": {
             "colorbar": {
              "outlinewidth": 0,
              "ticks": ""
             }
            },
            "type": "scattergeo"
           }
          ],
          "scattergl": [
           {
            "marker": {
             "colorbar": {
              "outlinewidth": 0,
              "ticks": ""
             }
            },
            "type": "scattergl"
           }
          ],
          "scattermapbox": [
           {
            "marker": {
             "colorbar": {
              "outlinewidth": 0,
              "ticks": ""
             }
            },
            "type": "scattermapbox"
           }
          ],
          "scatterpolar": [
           {
            "marker": {
             "colorbar": {
              "outlinewidth": 0,
              "ticks": ""
             }
            },
            "type": "scatterpolar"
           }
          ],
          "scatterpolargl": [
           {
            "marker": {
             "colorbar": {
              "outlinewidth": 0,
              "ticks": ""
             }
            },
            "type": "scatterpolargl"
           }
          ],
          "scatterternary": [
           {
            "marker": {
             "colorbar": {
              "outlinewidth": 0,
              "ticks": ""
             }
            },
            "type": "scatterternary"
           }
          ],
          "surface": [
           {
            "colorbar": {
             "outlinewidth": 0,
             "ticks": ""
            },
            "colorscale": [
             [
              0,
              "#0d0887"
             ],
             [
              0.1111111111111111,
              "#46039f"
             ],
             [
              0.2222222222222222,
              "#7201a8"
             ],
             [
              0.3333333333333333,
              "#9c179e"
             ],
             [
              0.4444444444444444,
              "#bd3786"
             ],
             [
              0.5555555555555556,
              "#d8576b"
             ],
             [
              0.6666666666666666,
              "#ed7953"
             ],
             [
              0.7777777777777778,
              "#fb9f3a"
             ],
             [
              0.8888888888888888,
              "#fdca26"
             ],
             [
              1,
              "#f0f921"
             ]
            ],
            "type": "surface"
           }
          ],
          "table": [
           {
            "cells": {
             "fill": {
              "color": "#EBF0F8"
             },
             "line": {
              "color": "white"
             }
            },
            "header": {
             "fill": {
              "color": "#C8D4E3"
             },
             "line": {
              "color": "white"
             }
            },
            "type": "table"
           }
          ]
         },
         "layout": {
          "annotationdefaults": {
           "arrowcolor": "#2a3f5f",
           "arrowhead": 0,
           "arrowwidth": 1
          },
          "autotypenumbers": "strict",
          "coloraxis": {
           "colorbar": {
            "outlinewidth": 0,
            "ticks": ""
           }
          },
          "colorscale": {
           "diverging": [
            [
             0,
             "#8e0152"
            ],
            [
             0.1,
             "#c51b7d"
            ],
            [
             0.2,
             "#de77ae"
            ],
            [
             0.3,
             "#f1b6da"
            ],
            [
             0.4,
             "#fde0ef"
            ],
            [
             0.5,
             "#f7f7f7"
            ],
            [
             0.6,
             "#e6f5d0"
            ],
            [
             0.7,
             "#b8e186"
            ],
            [
             0.8,
             "#7fbc41"
            ],
            [
             0.9,
             "#4d9221"
            ],
            [
             1,
             "#276419"
            ]
           ],
           "sequential": [
            [
             0,
             "#0d0887"
            ],
            [
             0.1111111111111111,
             "#46039f"
            ],
            [
             0.2222222222222222,
             "#7201a8"
            ],
            [
             0.3333333333333333,
             "#9c179e"
            ],
            [
             0.4444444444444444,
             "#bd3786"
            ],
            [
             0.5555555555555556,
             "#d8576b"
            ],
            [
             0.6666666666666666,
             "#ed7953"
            ],
            [
             0.7777777777777778,
             "#fb9f3a"
            ],
            [
             0.8888888888888888,
             "#fdca26"
            ],
            [
             1,
             "#f0f921"
            ]
           ],
           "sequentialminus": [
            [
             0,
             "#0d0887"
            ],
            [
             0.1111111111111111,
             "#46039f"
            ],
            [
             0.2222222222222222,
             "#7201a8"
            ],
            [
             0.3333333333333333,
             "#9c179e"
            ],
            [
             0.4444444444444444,
             "#bd3786"
            ],
            [
             0.5555555555555556,
             "#d8576b"
            ],
            [
             0.6666666666666666,
             "#ed7953"
            ],
            [
             0.7777777777777778,
             "#fb9f3a"
            ],
            [
             0.8888888888888888,
             "#fdca26"
            ],
            [
             1,
             "#f0f921"
            ]
           ]
          },
          "colorway": [
           "#636efa",
           "#EF553B",
           "#00cc96",
           "#ab63fa",
           "#FFA15A",
           "#19d3f3",
           "#FF6692",
           "#B6E880",
           "#FF97FF",
           "#FECB52"
          ],
          "font": {
           "color": "#2a3f5f"
          },
          "geo": {
           "bgcolor": "white",
           "lakecolor": "white",
           "landcolor": "#E5ECF6",
           "showlakes": true,
           "showland": true,
           "subunitcolor": "white"
          },
          "hoverlabel": {
           "align": "left"
          },
          "hovermode": "closest",
          "mapbox": {
           "style": "light"
          },
          "paper_bgcolor": "white",
          "plot_bgcolor": "#E5ECF6",
          "polar": {
           "angularaxis": {
            "gridcolor": "white",
            "linecolor": "white",
            "ticks": ""
           },
           "bgcolor": "#E5ECF6",
           "radialaxis": {
            "gridcolor": "white",
            "linecolor": "white",
            "ticks": ""
           }
          },
          "scene": {
           "xaxis": {
            "backgroundcolor": "#E5ECF6",
            "gridcolor": "white",
            "gridwidth": 2,
            "linecolor": "white",
            "showbackground": true,
            "ticks": "",
            "zerolinecolor": "white"
           },
           "yaxis": {
            "backgroundcolor": "#E5ECF6",
            "gridcolor": "white",
            "gridwidth": 2,
            "linecolor": "white",
            "showbackground": true,
            "ticks": "",
            "zerolinecolor": "white"
           },
           "zaxis": {
            "backgroundcolor": "#E5ECF6",
            "gridcolor": "white",
            "gridwidth": 2,
            "linecolor": "white",
            "showbackground": true,
            "ticks": "",
            "zerolinecolor": "white"
           }
          },
          "shapedefaults": {
           "line": {
            "color": "#2a3f5f"
           }
          },
          "ternary": {
           "aaxis": {
            "gridcolor": "white",
            "linecolor": "white",
            "ticks": ""
           },
           "baxis": {
            "gridcolor": "white",
            "linecolor": "white",
            "ticks": ""
           },
           "bgcolor": "#E5ECF6",
           "caxis": {
            "gridcolor": "white",
            "linecolor": "white",
            "ticks": ""
           }
          },
          "title": {
           "x": 0.05
          },
          "xaxis": {
           "automargin": true,
           "gridcolor": "white",
           "linecolor": "white",
           "ticks": "",
           "title": {
            "standoff": 15
           },
           "zerolinecolor": "white",
           "zerolinewidth": 2
          },
          "yaxis": {
           "automargin": true,
           "gridcolor": "white",
           "linecolor": "white",
           "ticks": "",
           "title": {
            "standoff": 15
           },
           "zerolinecolor": "white",
           "zerolinewidth": 2
          }
         }
        },
        "title": {
         "text": "$4ESS138$"
        },
        "xaxis": {
         "title": {
          "text": "Depth"
         }
        },
        "yaxis": {
         "title": {
          "text": "COT "
         }
        }
       }
      }
     },
     "metadata": {},
     "output_type": "display_data"
    }
   ],
   "source": [
    "# Gráfico interativo Plotly\n",
    "xaxis = go.layout.XAxis(title=\"Depth\")\n",
    "yaxis = go.layout.YAxis(title=\"COT \")\n",
    "\n",
    "fig = go.Figure(layout=go.Layout(title=\"$4ESS138$\", xaxis=xaxis, yaxis=yaxis))\n",
    "fig.add_trace(go.Scatter(x=z_a, y=COT_a, mode=\"markers\"))\n",
    "fig.add_trace(go.Scatter(x=z_q, y=COT_q, mode=\"markers\"))\n",
    "fig.show()"
   ]
  },
  {
   "cell_type": "code",
   "execution_count": 13,
   "id": "7c1961f7",
   "metadata": {},
   "outputs": [
    {
     "name": "stdout",
     "output_type": "stream",
     "text": [
      "    Depth   COT  COT_achilles\n",
      "0  5283.0  1.41           0.0\n",
      "1  5445.0  1.36           0.0\n",
      "2  5463.0  1.39           0.0\n",
      "3  5481.0  1.69           0.0\n",
      "4  5499.0  1.79           0.0\n",
      "5  5517.0  2.00           0.0\n",
      "6  5535.0  2.08           0.0\n",
      "7  5553.0  1.87           0.0 540 8\n"
     ]
    }
   ],
   "source": [
    "\n",
    "df_q['COT_achilles']=np.zeros(len((df_q['COT'])))\n",
    "print(df_q,len(z_a),len(z_q))"
   ]
  },
  {
   "cell_type": "code",
   "execution_count": 16,
   "id": "84e3ad05",
   "metadata": {},
   "outputs": [
    {
     "name": "stdout",
     "output_type": "stream",
     "text": [
      "[] 0\n"
     ]
    }
   ],
   "source": [
    "z_a=np.array(z_a)\n",
    "COT_a=np.array(COT_a)\n",
    "COT_q=np.array(COT_q)\n",
    "COT_aa = []\n",
    "#Cria coluna de códigos no AGP\n",
    "for i in range(np.size(z_a)):\n",
    "    for j in range(np.size(z_q)):\n",
    "        #print(z_q[j])\n",
    "        if z_a[i] == z_q[j]:\n",
    "            #COT_aa.append(COT_a[j])\n",
    "            COT_aa = COT_a[j]\n",
    "            print(COT_aa)\n",
    "            \n",
    "print(COT_aa,np.size(COT_aa))           "
   ]
  },
  {
   "cell_type": "code",
   "execution_count": 17,
   "id": "129f1271",
   "metadata": {},
   "outputs": [
    {
     "data": {
      "text/html": [
       "<div>\n",
       "<style scoped>\n",
       "    .dataframe tbody tr th:only-of-type {\n",
       "        vertical-align: middle;\n",
       "    }\n",
       "\n",
       "    .dataframe tbody tr th {\n",
       "        vertical-align: top;\n",
       "    }\n",
       "\n",
       "    .dataframe thead th {\n",
       "        text-align: right;\n",
       "    }\n",
       "</style>\n",
       "<table border=\"1\" class=\"dataframe\">\n",
       "  <thead>\n",
       "    <tr style=\"text-align: right;\">\n",
       "      <th></th>\n",
       "    </tr>\n",
       "  </thead>\n",
       "  <tbody>\n",
       "  </tbody>\n",
       "</table>\n",
       "</div>"
      ],
      "text/plain": [
       "Empty DataFrame\n",
       "Columns: []\n",
       "Index: []"
      ]
     },
     "execution_count": 17,
     "metadata": {},
     "output_type": "execute_result"
    }
   ],
   "source": [
    "COt_a= pd.DataFrame(COT_aa)\n",
    "COt_a\n"
   ]
  },
  {
   "cell_type": "code",
   "execution_count": 158,
   "id": "894275a9",
   "metadata": {},
   "outputs": [],
   "source": [
    "df_q['COT_achilles']=COt_a"
   ]
  },
  {
   "cell_type": "code",
   "execution_count": 151,
   "id": "2ac61ad4",
   "metadata": {},
   "outputs": [
    {
     "data": {
      "text/html": [
       "<div>\n",
       "<style scoped>\n",
       "    .dataframe tbody tr th:only-of-type {\n",
       "        vertical-align: middle;\n",
       "    }\n",
       "\n",
       "    .dataframe tbody tr th {\n",
       "        vertical-align: top;\n",
       "    }\n",
       "\n",
       "    .dataframe thead th {\n",
       "        text-align: right;\n",
       "    }\n",
       "</style>\n",
       "<table border=\"1\" class=\"dataframe\">\n",
       "  <thead>\n",
       "    <tr style=\"text-align: right;\">\n",
       "      <th></th>\n",
       "      <th>Depth</th>\n",
       "      <th>COT</th>\n",
       "      <th>COT_achilles</th>\n",
       "    </tr>\n",
       "  </thead>\n",
       "  <tbody>\n",
       "    <tr>\n",
       "      <th>0</th>\n",
       "      <td>4317.0</td>\n",
       "      <td>0.671</td>\n",
       "      <td>0.0</td>\n",
       "    </tr>\n",
       "    <tr>\n",
       "      <th>1</th>\n",
       "      <td>4347.0</td>\n",
       "      <td>0.711</td>\n",
       "      <td>0.0</td>\n",
       "    </tr>\n",
       "    <tr>\n",
       "      <th>2</th>\n",
       "      <td>4407.0</td>\n",
       "      <td>0.694</td>\n",
       "      <td>0.0</td>\n",
       "    </tr>\n",
       "    <tr>\n",
       "      <th>3</th>\n",
       "      <td>4443.0</td>\n",
       "      <td>0.630</td>\n",
       "      <td>0.0</td>\n",
       "    </tr>\n",
       "    <tr>\n",
       "      <th>4</th>\n",
       "      <td>4473.0</td>\n",
       "      <td>0.720</td>\n",
       "      <td>0.0</td>\n",
       "    </tr>\n",
       "    <tr>\n",
       "      <th>...</th>\n",
       "      <td>...</td>\n",
       "      <td>...</td>\n",
       "      <td>...</td>\n",
       "    </tr>\n",
       "    <tr>\n",
       "      <th>71</th>\n",
       "      <td>5013.0</td>\n",
       "      <td>2.660</td>\n",
       "      <td>0.0</td>\n",
       "    </tr>\n",
       "    <tr>\n",
       "      <th>72</th>\n",
       "      <td>5016.0</td>\n",
       "      <td>2.260</td>\n",
       "      <td>0.0</td>\n",
       "    </tr>\n",
       "    <tr>\n",
       "      <th>73</th>\n",
       "      <td>5019.0</td>\n",
       "      <td>2.130</td>\n",
       "      <td>0.0</td>\n",
       "    </tr>\n",
       "    <tr>\n",
       "      <th>74</th>\n",
       "      <td>5022.0</td>\n",
       "      <td>2.140</td>\n",
       "      <td>0.0</td>\n",
       "    </tr>\n",
       "    <tr>\n",
       "      <th>75</th>\n",
       "      <td>5043.0</td>\n",
       "      <td>1.000</td>\n",
       "      <td>0.0</td>\n",
       "    </tr>\n",
       "  </tbody>\n",
       "</table>\n",
       "<p>76 rows × 3 columns</p>\n",
       "</div>"
      ],
      "text/plain": [
       "     Depth    COT  COT_achilles\n",
       "0   4317.0  0.671           0.0\n",
       "1   4347.0  0.711           0.0\n",
       "2   4407.0  0.694           0.0\n",
       "3   4443.0  0.630           0.0\n",
       "4   4473.0  0.720           0.0\n",
       "..     ...    ...           ...\n",
       "71  5013.0  2.660           0.0\n",
       "72  5016.0  2.260           0.0\n",
       "73  5019.0  2.130           0.0\n",
       "74  5022.0  2.140           0.0\n",
       "75  5043.0  1.000           0.0\n",
       "\n",
       "[76 rows x 3 columns]"
      ]
     },
     "execution_count": 151,
     "metadata": {},
     "output_type": "execute_result"
    }
   ],
   "source": [
    "df_q"
   ]
  },
  {
   "cell_type": "code",
   "execution_count": null,
   "id": "7568c7f4",
   "metadata": {},
   "outputs": [],
   "source": []
  },
  {
   "cell_type": "code",
   "execution_count": null,
   "id": "1a344c34",
   "metadata": {},
   "outputs": [],
   "source": []
  },
  {
   "cell_type": "code",
   "execution_count": null,
   "id": "3fc49261",
   "metadata": {},
   "outputs": [],
   "source": []
  }
 ],
 "metadata": {
  "kernelspec": {
   "display_name": "Python 3 (ipykernel)",
   "language": "python",
   "name": "python3"
  },
  "language_info": {
   "codemirror_mode": {
    "name": "ipython",
    "version": 3
   },
   "file_extension": ".py",
   "mimetype": "text/x-python",
   "name": "python",
   "nbconvert_exporter": "python",
   "pygments_lexer": "ipython3",
   "version": "3.9.7"
  }
 },
 "nbformat": 4,
 "nbformat_minor": 5
}
