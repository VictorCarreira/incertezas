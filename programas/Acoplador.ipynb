{
 "cells": [
  {
   "cell_type": "markdown",
   "id": "3ea74556",
   "metadata": {
    "slideshow": {
     "slide_type": "slide"
    }
   },
   "source": [
    "# Acoplador dos dados de *.las com o respectivo *.agp"
   ]
  },
  {
   "cell_type": "markdown",
   "id": "d5b15270",
   "metadata": {
    "slideshow": {
     "slide_type": "subslide"
    }
   },
   "source": [
    "## Importando módulos externos"
   ]
  },
  {
   "cell_type": "code",
   "execution_count": 1,
   "id": "efb095c5",
   "metadata": {
    "slideshow": {
     "slide_type": "subslide"
    }
   },
   "outputs": [],
   "source": [
    "######################PACOTES##########################\n",
    "import sys\n",
    "import numpy as np\n",
    "import pandas as pd\n",
    "import matplotlib.pyplot as plt\n",
    "import logging\n",
    "sys.path.insert(0,'../modulos')\n",
    "from graficador import plotagem as plm2\n",
    "#######################################################"
   ]
  },
  {
   "cell_type": "markdown",
   "id": "29bc465c",
   "metadata": {},
   "source": [
    "## Leitura dos dados de perfilagem"
   ]
  },
  {
   "cell_type": "code",
   "execution_count": 2,
   "id": "68a2abe7",
   "metadata": {},
   "outputs": [],
   "source": [
    "#----------------------------------------------------------------------#\n",
    "# Leitura do data frame que contém os canais da perfilagem             #\n",
    "#----------------------------------------------------------------------#\n",
    "df = pd.read_csv(\"../saidas/1-ESS-120_resample_COT.txt\", sep='\\s+', skiprows=1 , \n",
    "                 names=('Depth(m)','COT','DT','GR','NPHI','RHOB'))"
   ]
  },
  {
   "cell_type": "markdown",
   "id": "9cef2434",
   "metadata": {},
   "source": [
    "### Vetores perfilagem"
   ]
  },
  {
   "cell_type": "code",
   "execution_count": 3,
   "id": "6be629a3",
   "metadata": {},
   "outputs": [],
   "source": [
    "depth=np.array(df['Depth(m)'])\n",
    "COT=np.array(df['COT'])\n",
    "DT=np.array(df['DT'])\n",
    "GR=np.array(df['GR'])\n",
    "NPHI=np.array(df['NPHI'])\n",
    "RHOB=np.array(df['RHOB'])\n",
    "#Cria um vetor numérico e um vetor de characters\n",
    "code = np.zeros(len((df['Depth(m)'])))\n",
    "rock = [0.0] * np.size(code, axis=0)#Esta variável precisa ser um character"
   ]
  },
  {
   "cell_type": "code",
   "execution_count": 4,
   "id": "66b8e5f7",
   "metadata": {},
   "outputs": [
    {
     "data": {
      "text/html": [
       "<div>\n",
       "<style scoped>\n",
       "    .dataframe tbody tr th:only-of-type {\n",
       "        vertical-align: middle;\n",
       "    }\n",
       "\n",
       "    .dataframe tbody tr th {\n",
       "        vertical-align: top;\n",
       "    }\n",
       "\n",
       "    .dataframe thead th {\n",
       "        text-align: right;\n",
       "    }\n",
       "</style>\n",
       "<table border=\"1\" class=\"dataframe\">\n",
       "  <thead>\n",
       "    <tr style=\"text-align: right;\">\n",
       "      <th></th>\n",
       "      <th>Depth(m)</th>\n",
       "      <th>COT</th>\n",
       "      <th>DT</th>\n",
       "      <th>GR</th>\n",
       "      <th>NPHI</th>\n",
       "      <th>RHOB</th>\n",
       "    </tr>\n",
       "  </thead>\n",
       "  <tbody>\n",
       "    <tr>\n",
       "      <th>0</th>\n",
       "      <td>4800.1046</td>\n",
       "      <td>5.399496</td>\n",
       "      <td>70.30501</td>\n",
       "      <td>157.6507</td>\n",
       "      <td>14.05369</td>\n",
       "      <td>2.616479</td>\n",
       "    </tr>\n",
       "    <tr>\n",
       "      <th>1</th>\n",
       "      <td>4800.3046</td>\n",
       "      <td>4.321568</td>\n",
       "      <td>73.25121</td>\n",
       "      <td>127.1674</td>\n",
       "      <td>11.76468</td>\n",
       "      <td>2.605533</td>\n",
       "    </tr>\n",
       "    <tr>\n",
       "      <th>2</th>\n",
       "      <td>4800.5046</td>\n",
       "      <td>4.060281</td>\n",
       "      <td>76.35267</td>\n",
       "      <td>119.7623</td>\n",
       "      <td>17.90119</td>\n",
       "      <td>2.585634</td>\n",
       "    </tr>\n",
       "    <tr>\n",
       "      <th>3</th>\n",
       "      <td>4800.7046</td>\n",
       "      <td>4.223565</td>\n",
       "      <td>78.27454</td>\n",
       "      <td>124.3640</td>\n",
       "      <td>21.43119</td>\n",
       "      <td>2.587109</td>\n",
       "    </tr>\n",
       "    <tr>\n",
       "      <th>4</th>\n",
       "      <td>4800.9046</td>\n",
       "      <td>4.049650</td>\n",
       "      <td>76.25685</td>\n",
       "      <td>119.4625</td>\n",
       "      <td>19.73067</td>\n",
       "      <td>2.608446</td>\n",
       "    </tr>\n",
       "    <tr>\n",
       "      <th>...</th>\n",
       "      <td>...</td>\n",
       "      <td>...</td>\n",
       "      <td>...</td>\n",
       "      <td>...</td>\n",
       "      <td>...</td>\n",
       "      <td>...</td>\n",
       "    </tr>\n",
       "    <tr>\n",
       "      <th>7335</th>\n",
       "      <td>6395.9046</td>\n",
       "      <td>5.415883</td>\n",
       "      <td>74.54109</td>\n",
       "      <td>158.4027</td>\n",
       "      <td>12.76359</td>\n",
       "      <td>2.693078</td>\n",
       "    </tr>\n",
       "    <tr>\n",
       "      <th>7336</th>\n",
       "      <td>6396.1046</td>\n",
       "      <td>5.415855</td>\n",
       "      <td>73.37498</td>\n",
       "      <td>158.4027</td>\n",
       "      <td>12.04690</td>\n",
       "      <td>2.707989</td>\n",
       "    </tr>\n",
       "    <tr>\n",
       "      <th>7337</th>\n",
       "      <td>6396.3046</td>\n",
       "      <td>5.416453</td>\n",
       "      <td>72.57875</td>\n",
       "      <td>158.4027</td>\n",
       "      <td>11.25337</td>\n",
       "      <td>2.676428</td>\n",
       "    </tr>\n",
       "    <tr>\n",
       "      <th>7338</th>\n",
       "      <td>6396.5046</td>\n",
       "      <td>5.416614</td>\n",
       "      <td>72.42371</td>\n",
       "      <td>158.4027</td>\n",
       "      <td>11.04827</td>\n",
       "      <td>2.661956</td>\n",
       "    </tr>\n",
       "    <tr>\n",
       "      <th>7339</th>\n",
       "      <td>6396.7046</td>\n",
       "      <td>5.416577</td>\n",
       "      <td>72.51006</td>\n",
       "      <td>158.4027</td>\n",
       "      <td>11.58292</td>\n",
       "      <td>2.664151</td>\n",
       "    </tr>\n",
       "  </tbody>\n",
       "</table>\n",
       "<p>7340 rows × 6 columns</p>\n",
       "</div>"
      ],
      "text/plain": [
       "       Depth(m)       COT        DT        GR      NPHI      RHOB\n",
       "0     4800.1046  5.399496  70.30501  157.6507  14.05369  2.616479\n",
       "1     4800.3046  4.321568  73.25121  127.1674  11.76468  2.605533\n",
       "2     4800.5046  4.060281  76.35267  119.7623  17.90119  2.585634\n",
       "3     4800.7046  4.223565  78.27454  124.3640  21.43119  2.587109\n",
       "4     4800.9046  4.049650  76.25685  119.4625  19.73067  2.608446\n",
       "...         ...       ...       ...       ...       ...       ...\n",
       "7335  6395.9046  5.415883  74.54109  158.4027  12.76359  2.693078\n",
       "7336  6396.1046  5.415855  73.37498  158.4027  12.04690  2.707989\n",
       "7337  6396.3046  5.416453  72.57875  158.4027  11.25337  2.676428\n",
       "7338  6396.5046  5.416614  72.42371  158.4027  11.04827  2.661956\n",
       "7339  6396.7046  5.416577  72.51006  158.4027  11.58292  2.664151\n",
       "\n",
       "[7340 rows x 6 columns]"
      ]
     },
     "execution_count": 4,
     "metadata": {},
     "output_type": "execute_result"
    }
   ],
   "source": [
    "df"
   ]
  },
  {
   "cell_type": "markdown",
   "id": "0a6a6422",
   "metadata": {},
   "source": [
    "## Leitura do arquivo *.agp"
   ]
  },
  {
   "cell_type": "code",
   "execution_count": 5,
   "id": "7c6d9d9a",
   "metadata": {},
   "outputs": [],
   "source": [
    "#---------------------------------------------------------#\n",
    "# Leitura do arquivo *.apg e criação do DataFrame:        #\n",
    "#---------------------------------------------------------#\n",
    "\n",
    "lito = pd.read_csv(\"../entradas/agpmod/1-ESS-120-ES.txt\", sep='\\s+', usecols=(0,1,2), \n",
    "                   index_col=False, na_values= ' ', skiprows=1, names=('TOPO(m)', 'BASE(m)','Rock') ) "
   ]
  },
  {
   "cell_type": "code",
   "execution_count": 6,
   "id": "19ee2f5d",
   "metadata": {},
   "outputs": [
    {
     "name": "stdout",
     "output_type": "stream",
     "text": [
      "<class 'pandas.core.frame.DataFrame'>\n",
      "RangeIndex: 458 entries, 0 to 457\n",
      "Data columns (total 3 columns):\n",
      " #   Column   Non-Null Count  Dtype  \n",
      "---  ------   --------------  -----  \n",
      " 0   TOPO(m)  458 non-null    float64\n",
      " 1   BASE(m)  458 non-null    float64\n",
      " 2   Rock     458 non-null    object \n",
      "dtypes: float64(2), object(1)\n",
      "memory usage: 10.9+ KB\n"
     ]
    }
   ],
   "source": [
    "\n",
    "lito.info()"
   ]
  },
  {
   "cell_type": "code",
   "execution_count": 7,
   "id": "5ff2334f",
   "metadata": {},
   "outputs": [
    {
     "name": "stdout",
     "output_type": "stream",
     "text": [
      "     TOPO(m)  BASE(m)         Rock\n",
      "0     2026.0   2525.0     FOLHELHO\n",
      "1     2525.0   2768.0      ARENITO\n",
      "2     2768.0   2773.0        MARGA\n",
      "3     2773.0   2814.5     FOLHELHO\n",
      "4     2814.5   2815.5  CALCILUTITO\n",
      "..       ...      ...          ...\n",
      "453   6301.0   6306.0        MARGA\n",
      "454   6306.0   6307.5        AREIA\n",
      "455   6307.5   6310.0     FOLHELHO\n",
      "456   6310.0   6314.0        AREIA\n",
      "457   6314.0   6409.0     FOLHELHO\n",
      "\n",
      "[458 rows x 3 columns]\n"
     ]
    }
   ],
   "source": [
    "print(lito)"
   ]
  },
  {
   "cell_type": "markdown",
   "id": "3a12973b",
   "metadata": {},
   "source": [
    "### Vetores agp"
   ]
  },
  {
   "cell_type": "code",
   "execution_count": 8,
   "id": "dc66654b",
   "metadata": {},
   "outputs": [],
   "source": [
    "topo=np.array(lito['TOPO(m)'])\n",
    "base=np.array(lito['BASE(m)'])\n",
    "rock_apg=np.array(lito['Rock'])"
   ]
  },
  {
   "cell_type": "markdown",
   "id": "4bbfc2b3",
   "metadata": {},
   "source": [
    "## Leitura do arquivo de codificação"
   ]
  },
  {
   "cell_type": "code",
   "execution_count": 9,
   "id": "f8da3d2b",
   "metadata": {},
   "outputs": [],
   "source": [
    "codigos =  pd.read_csv(\"../entradas/colors.txt\", sep=',', usecols=(0,1,2,3), \n",
    "                   index_col=False, na_values= ' ', skiprows=1, names=('Litologia', 'Abreviacao', 'Cor', 'Codigo') ) "
   ]
  },
  {
   "cell_type": "code",
   "execution_count": 10,
   "id": "b0989806",
   "metadata": {},
   "outputs": [
    {
     "data": {
      "text/html": [
       "<div>\n",
       "<style scoped>\n",
       "    .dataframe tbody tr th:only-of-type {\n",
       "        vertical-align: middle;\n",
       "    }\n",
       "\n",
       "    .dataframe tbody tr th {\n",
       "        vertical-align: top;\n",
       "    }\n",
       "\n",
       "    .dataframe thead th {\n",
       "        text-align: right;\n",
       "    }\n",
       "</style>\n",
       "<table border=\"1\" class=\"dataframe\">\n",
       "  <thead>\n",
       "    <tr style=\"text-align: right;\">\n",
       "      <th></th>\n",
       "      <th>Litologia</th>\n",
       "      <th>Abreviacao</th>\n",
       "      <th>Cor</th>\n",
       "      <th>Codigo</th>\n",
       "    </tr>\n",
       "  </thead>\n",
       "  <tbody>\n",
       "    <tr>\n",
       "      <th>0</th>\n",
       "      <td>ANIDRITA</td>\n",
       "      <td>AND</td>\n",
       "      <td>#dd1dff</td>\n",
       "      <td>82</td>\n",
       "    </tr>\n",
       "    <tr>\n",
       "      <th>1</th>\n",
       "      <td>ARDOSIA</td>\n",
       "      <td>ARS</td>\n",
       "      <td>#00dd00</td>\n",
       "      <td>77</td>\n",
       "    </tr>\n",
       "    <tr>\n",
       "      <th>2</th>\n",
       "      <td>AREIA</td>\n",
       "      <td>ARE</td>\n",
       "      <td>#ffff3f</td>\n",
       "      <td>48</td>\n",
       "    </tr>\n",
       "    <tr>\n",
       "      <th>3</th>\n",
       "      <td>ARENITO</td>\n",
       "      <td>ARN</td>\n",
       "      <td>#ffff3f</td>\n",
       "      <td>49</td>\n",
       "    </tr>\n",
       "    <tr>\n",
       "      <th>4</th>\n",
       "      <td>ARENITO ARGILOSO</td>\n",
       "      <td>ARL</td>\n",
       "      <td>#7eff00</td>\n",
       "      <td>25</td>\n",
       "    </tr>\n",
       "    <tr>\n",
       "      <th>...</th>\n",
       "      <td>...</td>\n",
       "      <td>...</td>\n",
       "      <td>...</td>\n",
       "      <td>...</td>\n",
       "    </tr>\n",
       "    <tr>\n",
       "      <th>72</th>\n",
       "      <td>TUFO VULCANICO</td>\n",
       "      <td>TUF</td>\n",
       "      <td>#ff5dbe</td>\n",
       "      <td>61</td>\n",
       "    </tr>\n",
       "    <tr>\n",
       "      <th>73</th>\n",
       "      <td>ULTRABASICA</td>\n",
       "      <td>ULB</td>\n",
       "      <td>#00a000</td>\n",
       "      <td>78</td>\n",
       "    </tr>\n",
       "    <tr>\n",
       "      <th>74</th>\n",
       "      <td>VULCANICA NAO IDENTIFICADA</td>\n",
       "      <td>VNI</td>\n",
       "      <td>#ffbe1d</td>\n",
       "      <td>34</td>\n",
       "    </tr>\n",
       "    <tr>\n",
       "      <th>75</th>\n",
       "      <td>WACKESTONE</td>\n",
       "      <td>WKS</td>\n",
       "      <td>#33d8f9</td>\n",
       "      <td>13</td>\n",
       "    </tr>\n",
       "    <tr>\n",
       "      <th>76</th>\n",
       "      <td>XISTO</td>\n",
       "      <td>XST</td>\n",
       "      <td>#ff5d5d</td>\n",
       "      <td>73</td>\n",
       "    </tr>\n",
       "  </tbody>\n",
       "</table>\n",
       "<p>77 rows × 4 columns</p>\n",
       "</div>"
      ],
      "text/plain": [
       "                     Litologia Abreviacao      Cor  Codigo\n",
       "0                     ANIDRITA        AND  #dd1dff      82\n",
       "1                      ARDOSIA        ARS  #00dd00      77\n",
       "2                        AREIA        ARE  #ffff3f      48\n",
       "3                      ARENITO        ARN  #ffff3f      49\n",
       "4             ARENITO ARGILOSO        ARL  #7eff00      25\n",
       "..                         ...        ...      ...     ...\n",
       "72              TUFO VULCANICO        TUF  #ff5dbe      61\n",
       "73                 ULTRABASICA        ULB  #00a000      78\n",
       "74  VULCANICA NAO IDENTIFICADA        VNI  #ffbe1d      34\n",
       "75                  WACKESTONE        WKS  #33d8f9      13\n",
       "76                       XISTO        XST  #ff5d5d      73\n",
       "\n",
       "[77 rows x 4 columns]"
      ]
     },
     "execution_count": 10,
     "metadata": {},
     "output_type": "execute_result"
    }
   ],
   "source": [
    "codigos"
   ]
  },
  {
   "cell_type": "markdown",
   "id": "0c449124",
   "metadata": {},
   "source": [
    "### Vetores de codigos e cores (litologias base)"
   ]
  },
  {
   "cell_type": "code",
   "execution_count": 11,
   "id": "149de040",
   "metadata": {},
   "outputs": [],
   "source": [
    "ROCKbase=np.array(codigos['Litologia'])\n",
    "hexbase=np.array(codigos['Cor'])\n",
    "codbase=np.array(codigos['Codigo'])"
   ]
  },
  {
   "cell_type": "markdown",
   "id": "ddc453d1",
   "metadata": {},
   "source": [
    "# Acoplamento"
   ]
  },
  {
   "cell_type": "code",
   "execution_count": 12,
   "id": "20c8d916",
   "metadata": {},
   "outputs": [
    {
     "data": {
      "text/html": [
       "<div>\n",
       "<style scoped>\n",
       "    .dataframe tbody tr th:only-of-type {\n",
       "        vertical-align: middle;\n",
       "    }\n",
       "\n",
       "    .dataframe tbody tr th {\n",
       "        vertical-align: top;\n",
       "    }\n",
       "\n",
       "    .dataframe thead th {\n",
       "        text-align: right;\n",
       "    }\n",
       "</style>\n",
       "<table border=\"1\" class=\"dataframe\">\n",
       "  <thead>\n",
       "    <tr style=\"text-align: right;\">\n",
       "      <th></th>\n",
       "      <th>TOPO(m)</th>\n",
       "      <th>BASE(m)</th>\n",
       "      <th>Rock</th>\n",
       "      <th>Codigo</th>\n",
       "    </tr>\n",
       "  </thead>\n",
       "  <tbody>\n",
       "    <tr>\n",
       "      <th>0</th>\n",
       "      <td>2026.0</td>\n",
       "      <td>2525.0</td>\n",
       "      <td>FOLHELHO</td>\n",
       "      <td>0.0</td>\n",
       "    </tr>\n",
       "    <tr>\n",
       "      <th>1</th>\n",
       "      <td>2525.0</td>\n",
       "      <td>2768.0</td>\n",
       "      <td>ARENITO</td>\n",
       "      <td>0.0</td>\n",
       "    </tr>\n",
       "    <tr>\n",
       "      <th>2</th>\n",
       "      <td>2768.0</td>\n",
       "      <td>2773.0</td>\n",
       "      <td>MARGA</td>\n",
       "      <td>0.0</td>\n",
       "    </tr>\n",
       "    <tr>\n",
       "      <th>3</th>\n",
       "      <td>2773.0</td>\n",
       "      <td>2814.5</td>\n",
       "      <td>FOLHELHO</td>\n",
       "      <td>0.0</td>\n",
       "    </tr>\n",
       "    <tr>\n",
       "      <th>4</th>\n",
       "      <td>2814.5</td>\n",
       "      <td>2815.5</td>\n",
       "      <td>CALCILUTITO</td>\n",
       "      <td>0.0</td>\n",
       "    </tr>\n",
       "    <tr>\n",
       "      <th>...</th>\n",
       "      <td>...</td>\n",
       "      <td>...</td>\n",
       "      <td>...</td>\n",
       "      <td>...</td>\n",
       "    </tr>\n",
       "    <tr>\n",
       "      <th>453</th>\n",
       "      <td>6301.0</td>\n",
       "      <td>6306.0</td>\n",
       "      <td>MARGA</td>\n",
       "      <td>0.0</td>\n",
       "    </tr>\n",
       "    <tr>\n",
       "      <th>454</th>\n",
       "      <td>6306.0</td>\n",
       "      <td>6307.5</td>\n",
       "      <td>AREIA</td>\n",
       "      <td>0.0</td>\n",
       "    </tr>\n",
       "    <tr>\n",
       "      <th>455</th>\n",
       "      <td>6307.5</td>\n",
       "      <td>6310.0</td>\n",
       "      <td>FOLHELHO</td>\n",
       "      <td>0.0</td>\n",
       "    </tr>\n",
       "    <tr>\n",
       "      <th>456</th>\n",
       "      <td>6310.0</td>\n",
       "      <td>6314.0</td>\n",
       "      <td>AREIA</td>\n",
       "      <td>0.0</td>\n",
       "    </tr>\n",
       "    <tr>\n",
       "      <th>457</th>\n",
       "      <td>6314.0</td>\n",
       "      <td>6409.0</td>\n",
       "      <td>FOLHELHO</td>\n",
       "      <td>0.0</td>\n",
       "    </tr>\n",
       "  </tbody>\n",
       "</table>\n",
       "<p>458 rows × 4 columns</p>\n",
       "</div>"
      ],
      "text/plain": [
       "     TOPO(m)  BASE(m)         Rock  Codigo\n",
       "0     2026.0   2525.0     FOLHELHO     0.0\n",
       "1     2525.0   2768.0      ARENITO     0.0\n",
       "2     2768.0   2773.0        MARGA     0.0\n",
       "3     2773.0   2814.5     FOLHELHO     0.0\n",
       "4     2814.5   2815.5  CALCILUTITO     0.0\n",
       "..       ...      ...          ...     ...\n",
       "453   6301.0   6306.0        MARGA     0.0\n",
       "454   6306.0   6307.5        AREIA     0.0\n",
       "455   6307.5   6310.0     FOLHELHO     0.0\n",
       "456   6310.0   6314.0        AREIA     0.0\n",
       "457   6314.0   6409.0     FOLHELHO     0.0\n",
       "\n",
       "[458 rows x 4 columns]"
      ]
     },
     "execution_count": 12,
     "metadata": {},
     "output_type": "execute_result"
    }
   ],
   "source": [
    "lito['Codigo']=np.zeros(len((lito['Rock'])))\n",
    "lito"
   ]
  },
  {
   "cell_type": "code",
   "execution_count": 13,
   "id": "63d70ff3",
   "metadata": {},
   "outputs": [
    {
     "name": "stderr",
     "output_type": "stream",
     "text": [
      "/tmp/ipykernel_12801/3844772693.py:5: SettingWithCopyWarning: \n",
      "A value is trying to be set on a copy of a slice from a DataFrame\n",
      "\n",
      "See the caveats in the documentation: https://pandas.pydata.org/pandas-docs/stable/user_guide/indexing.html#returning-a-view-versus-a-copy\n",
      "  lito['Codigo'][i]=codigos['Codigo'][j]\n"
     ]
    }
   ],
   "source": [
    "#Cria coluna de códigos no AGP\n",
    "for i in range(len(lito)):\n",
    "    for j in range(len(codigos)):\n",
    "        if lito['Rock'][i] == codigos['Litologia'][j]:\n",
    "            lito['Codigo'][i]=codigos['Codigo'][j]"
   ]
  },
  {
   "cell_type": "code",
   "execution_count": 14,
   "id": "e56e4fe7",
   "metadata": {},
   "outputs": [
    {
     "name": "stdout",
     "output_type": "stream",
     "text": [
      "     TOPO(m)  BASE(m)         Rock  Codigo\n",
      "0     2026.0   2525.0     FOLHELHO    57.0\n",
      "1     2525.0   2768.0      ARENITO    49.0\n",
      "2     2768.0   2773.0        MARGA    58.0\n",
      "3     2773.0   2814.5     FOLHELHO    57.0\n",
      "4     2814.5   2815.5  CALCILUTITO     6.0\n",
      "..       ...      ...          ...     ...\n",
      "453   6301.0   6306.0        MARGA    58.0\n",
      "454   6306.0   6307.5        AREIA    48.0\n",
      "455   6307.5   6310.0     FOLHELHO    57.0\n",
      "456   6310.0   6314.0        AREIA    48.0\n",
      "457   6314.0   6409.0     FOLHELHO    57.0\n",
      "\n",
      "[458 rows x 4 columns]\n"
     ]
    }
   ],
   "source": [
    "print(lito)"
   ]
  },
  {
   "cell_type": "code",
   "execution_count": 15,
   "id": "0a75d329",
   "metadata": {},
   "outputs": [],
   "source": [
    "codagp=np.array(lito['Codigo'])"
   ]
  },
  {
   "cell_type": "code",
   "execution_count": 16,
   "id": "6f5b1adf",
   "metadata": {},
   "outputs": [
    {
     "name": "stdout",
     "output_type": "stream",
     "text": [
      "[0. 0. 0. ... 0. 0. 0.]\n"
     ]
    }
   ],
   "source": [
    "print(code)"
   ]
  },
  {
   "cell_type": "code",
   "execution_count": 17,
   "id": "0e69d952",
   "metadata": {},
   "outputs": [
    {
     "name": "stdout",
     "output_type": "stream",
     "text": [
      "[4800.1046 4800.3046 4800.5046 ... 6396.3046 6396.5046 6396.7046]\n",
      "[2525.  2768.  2773.  2814.5 2815.5 2816.5 2817.5 2820.  2851.  2853.5\n",
      " 2855.5 2859.  2865.  2867.  2870.5 2872.  2880.  2882.5 2885.5 2886.5\n",
      " 2890.  2965.  2970.  2989.  2990.5 3011.5 3014.5 3031.5 3034.  3038.\n",
      " 3045.  3046.5 3048.  3049.5 3055.5 3057.  3064.  3075.  3077.  3078.\n",
      " 3087.  3091.  3094.  3095.  3101.  3104.5 3109.  3111.  3113.  3115.\n",
      " 3118.5 3119.5 3121.5 3126.  3126.5 3127.5 3128.5 3130.  3131.5 3133.\n",
      " 3134.  3135.5 3136.5 3138.5 3145.  3146.  3152.  3153.  3155.  3156.\n",
      " 3160.  3162.  3166.  3167.  3168.  3170.  3171.  3172.  3173.5 3175.5\n",
      " 3178.  3179.  3185.  3190.  3192.  3198.  3218.  3220.  3236.5 3238.5\n",
      " 3248.5 3250.5 3265.  3267.  3273.  3274.  3290.5 3291.5 3299.  3300.\n",
      " 3308.5 3312.  4179.  4181.  4422.  4424.  4425.  4428.  4557.5 4558.5\n",
      " 4574.  4575.  4661.5 4662.  4663.  4663.5 4671.5 4672.5 4711.5 4712.\n",
      " 4718.  4718.5 4720.5 4721.5 4722.  4726.5 4727.5 4750.  4750.5 4777.5\n",
      " 4779.5 4792.5 4793.5 4806.  4808.  4809.  4812.  4819.  4821.  4823.\n",
      " 4824.  4825.  4825.5 4826.5 4828.  4841.  4843.  4845.5 4852.  4857.5\n",
      " 4858.5 4865.5 4866.5 4869.  4870.  4881.  4882.  4885.  4886.  4889.5\n",
      " 4894.  4921.  4922.5 4924.  4926.  4927.  4928.5 4930.  4970.  4971.5\n",
      " 4972.5 4973.  4974.  4974.5 4975.  4976.  4976.5 4977.  4977.5 4979.\n",
      " 4980.  4988.  4990.  4997.  5003.  5010.  5011.  5013.  5018.  5020.\n",
      " 5037.  5038.  5041.5 5042.5 5044.5 5052.  5054.  5061.  5063.  5076.\n",
      " 5078.  5084.  5086.  5090.  5092.  5110.  5112.  5115.  5116.  5120.\n",
      " 5121.  5140.  5142.  5163.  5164.  5167.  5172.  5177.  5179.  5183.\n",
      " 5185.  5191.  5194.  5196.  5198.  5204.  5207.  5218.  5220.  5222.\n",
      " 5227.  5230.  5234.  5239.  5241.  5250.  5253.  5263.  5265.  5280.\n",
      " 5281.  5283.  5286.  5291.  5292.  5293.  5297.  5304.  5313.  5316.\n",
      " 5319.  5331.  5333.  5336.  5351.5 5355.  5356.  5358.  5359.  5367.\n",
      " 5370.  5383.  5388.  5395.  5397.  5401.  5402.  5403.  5415.5 5416.5\n",
      " 5435.  5437.  5439.  5440.5 5441.5 5442.  5442.5 5443.5 5444.  5445.\n",
      " 5446.  5446.5 5447.  5448.  5448.5 5449.  5449.5 5453.  5454.  5454.5\n",
      " 5455.  5456.  5457.5 5461.  5461.5 5462.  5462.5 5463.5 5464.  5465.\n",
      " 5465.5 5466.  5467.  5468.  5469.  5470.  5471.  5471.5 5472.  5473.\n",
      " 5474.  5475.  5475.5 5476.  5476.5 5477.  5478.  5478.5 5479.  5479.5\n",
      " 5480.5 5481.  5481.5 5482.  5482.5 5483.  5483.5 5484.  5485.  5485.5\n",
      " 5486.  5488.  5488.5 5489.  5489.5 5491.5 5492.  5492.5 5495.5 5497.\n",
      " 5498.  5503.  5504.5 5506.  5506.5 5508.  5509.  5510.  5511.  5513.\n",
      " 5514.  5515.  5516.  5517.5 5518.  5520.  5521.  5525.  5526.  5532.5\n",
      " 5533.5 5534.5 5536.  5536.5 5537.  5538.5 5539.5 5547.5 5549.5 5550.5\n",
      " 5551.5 5553.  5554.  5557.  5558.  5562.  5563.  5570.  5571.  5572.5\n",
      " 5573.5 5574.  5574.5 5575.5 5578.5 5586.  5593.  5595.5 5597.  5608.\n",
      " 5661.5 5664.5 5666.  5677.  5686.  5697.5 5705.  5708.  5715.  5722.\n",
      " 5743.  5744.5 5750.  5757.  5759.  5767.  5772.5 5778.  5783.  5785.\n",
      " 5790.  5791.  5794.  5799.5 5804.  5806.  5807.5 5833.5 5864.  5980.5\n",
      " 5993.5 5995.  5997.  6000.  6033.  6037.  6044.5 6046.  6049.  6054.\n",
      " 6056.  6065.  6070.  6071.  6076.  6081.  6097.  6105.  6129.  6131.5\n",
      " 6139.  6140.  6148.  6152.  6220.  6243.  6247.  6249.  6250.  6274.\n",
      " 6276.  6299.  6301.  6306.  6307.5 6310.  6314.  6409. ]\n"
     ]
    }
   ],
   "source": [
    "print(depth)\n",
    "print(base)"
   ]
  },
  {
   "cell_type": "code",
   "execution_count": 18,
   "id": "af28744b",
   "metadata": {},
   "outputs": [
    {
     "name": "stdout",
     "output_type": "stream",
     "text": [
      "7340 458\n"
     ]
    }
   ],
   "source": [
    "#Limites dos laços:\n",
    "fim1 = np.size(df['Depth(m)'], axis=0)# amostragem 0.2\n",
    "fim2 = np.size(lito['BASE(m)'], axis=0)# agp\n",
    "\n",
    "print(fim1,fim2)"
   ]
  },
  {
   "cell_type": "code",
   "execution_count": 19,
   "id": "11604d7c",
   "metadata": {},
   "outputs": [
    {
     "name": "stdout",
     "output_type": "stream",
     "text": [
      "133 30 4806.0 4805.9046 4806.104600000001 57.0 57.0\n",
      "134 40 4808.0 4807.9046 4808.104600000001 49.0 49.0\n",
      "135 45 4809.0 4808.9046 4809.104600000001 57.0 57.0\n",
      "136 60 4812.0 4811.9046 4812.104600000001 57.0 57.0\n",
      "137 95 4819.0 4818.9046 4819.104600000001 57.0 57.0\n",
      "138 105 4821.0 4820.9046 4821.104600000001 48.0 48.0\n",
      "139 115 4823.0 4822.9046 4823.104600000001 58.0 58.0\n",
      "140 120 4824.0 4823.9046 4824.104600000001 57.0 57.0\n",
      "141 125 4825.0 4824.9046 4825.104600000001 57.0 57.0\n",
      "142 127 4825.5 4825.3046 4825.5046 57.0 57.0\n",
      "143 132 4826.5 4826.3046 4826.5046 6.0 6.0\n",
      "144 140 4828.0 4827.9046 4828.104600000001 48.0 48.0\n",
      "145 205 4841.0 4840.9046 4841.104600000001 48.0 48.0\n",
      "146 215 4843.0 4842.9046 4843.104600000001 48.0 48.0\n",
      "147 227 4845.5 4845.3046 4845.5046 48.0 48.0\n",
      "148 260 4852.0 4851.9046 4852.104600000001 48.0 48.0\n",
      "149 287 4857.5 4857.3046 4857.5046 57.0 57.0\n",
      "150 292 4858.5 4858.3046 4858.5046 6.0 6.0\n",
      "151 327 4865.5 4865.3046 4865.5046 57.0 57.0\n",
      "152 332 4866.5 4866.3046 4866.5046 57.0 57.0\n",
      "153 345 4869.0 4868.9046 4869.104600000001 8.0 8.0\n",
      "154 350 4870.0 4869.9046 4870.104600000001 57.0 57.0\n",
      "155 405 4881.0 4880.9046 4881.104600000001 48.0 48.0\n",
      "156 410 4882.0 4881.9046 4882.104600000001 48.0 48.0\n",
      "157 425 4885.0 4884.9046 4885.104600000001 48.0 48.0\n",
      "158 430 4886.0 4885.9046 4886.104600000001 48.0 48.0\n",
      "159 447 4889.5 4889.3046 4889.5046 58.0 58.0\n"
     ]
    },
    {
     "ename": "IndexError",
     "evalue": "index 458 is out of bounds for axis 0 with size 458",
     "output_type": "error",
     "traceback": [
      "\u001b[0;31m---------------------------------------------------------------------------\u001b[0m",
      "\u001b[0;31mIndexError\u001b[0m                                Traceback (most recent call last)",
      "\u001b[0;32m/tmp/ipykernel_12801/2729359123.py\u001b[0m in \u001b[0;36m<module>\u001b[0;34m\u001b[0m\n\u001b[1;32m      6\u001b[0m \u001b[0;32mfor\u001b[0m \u001b[0mj\u001b[0m \u001b[0;32min\u001b[0m \u001b[0mrange\u001b[0m\u001b[0;34m(\u001b[0m\u001b[0mfim1\u001b[0m\u001b[0;34m-\u001b[0m\u001b[0;36m1\u001b[0m\u001b[0;34m)\u001b[0m\u001b[0;34m:\u001b[0m\u001b[0;31m#poço\u001b[0m\u001b[0;34m\u001b[0m\u001b[0;34m\u001b[0m\u001b[0m\n\u001b[1;32m      7\u001b[0m     \u001b[0;32mfor\u001b[0m \u001b[0mi\u001b[0m \u001b[0;32min\u001b[0m \u001b[0mrange\u001b[0m\u001b[0;34m(\u001b[0m\u001b[0;36m1\u001b[0m\u001b[0;34m,\u001b[0m\u001b[0mfim2\u001b[0m\u001b[0;34m)\u001b[0m\u001b[0;34m:\u001b[0m\u001b[0;31m#agp\u001b[0m\u001b[0;34m\u001b[0m\u001b[0;34m\u001b[0m\u001b[0m\n\u001b[0;32m----> 8\u001b[0;31m         \u001b[0;32mif\u001b[0m \u001b[0mbase\u001b[0m\u001b[0;34m[\u001b[0m\u001b[0mj\u001b[0m\u001b[0;34m]\u001b[0m \u001b[0;34m>\u001b[0m \u001b[0mdepth\u001b[0m\u001b[0;34m[\u001b[0m\u001b[0mi\u001b[0m\u001b[0;34m-\u001b[0m\u001b[0;36m1\u001b[0m\u001b[0;34m]\u001b[0m \u001b[0;32mand\u001b[0m \u001b[0mbase\u001b[0m\u001b[0;34m[\u001b[0m\u001b[0mj\u001b[0m\u001b[0;34m]\u001b[0m \u001b[0;34m<=\u001b[0m \u001b[0mdepth\u001b[0m\u001b[0;34m[\u001b[0m\u001b[0mi\u001b[0m\u001b[0;34m]\u001b[0m\u001b[0;34m:\u001b[0m\u001b[0;34m\u001b[0m\u001b[0;34m\u001b[0m\u001b[0m\n\u001b[0m\u001b[1;32m      9\u001b[0m             \u001b[0mcode\u001b[0m\u001b[0;34m[\u001b[0m\u001b[0mj\u001b[0m\u001b[0;34m]\u001b[0m\u001b[0;34m=\u001b[0m\u001b[0mcodagp\u001b[0m\u001b[0;34m[\u001b[0m\u001b[0mi\u001b[0m\u001b[0;34m]\u001b[0m\u001b[0;34m\u001b[0m\u001b[0;34m\u001b[0m\u001b[0m\n\u001b[1;32m     10\u001b[0m             \u001b[0;31m#rock[j] = rockbase[i]\u001b[0m\u001b[0;34m\u001b[0m\u001b[0;34m\u001b[0m\u001b[0m\n",
      "\u001b[0;31mIndexError\u001b[0m: index 458 is out of bounds for axis 0 with size 458"
     ]
    }
   ],
   "source": [
    "#--------------------------------------------------------#\n",
    "#   Armazenando as informações nas variáveis             #\n",
    "# Esta info é especifica para cada caso de poço          #\n",
    "#--------------------------------------------------------#\n",
    "\n",
    "for j in range(fim1-1):#poço\n",
    "    for i in range(1,fim2):#agp\n",
    "        if base[j] > depth[i-1] and base[j] <= depth[i]: \n",
    "            code[j]=codagp[i]\n",
    "            #rock[j] = rockbase[i]\n",
    "            print(j,i, base[j], depth[i-1],depth[i],code[j],codagp[i])\n",
    "    \n",
    "        # condicao extrema, ou seja, quando as profs dos perfis forem maiores que as do arquivo agp:\n",
    "        if base[j] > depth[fim2-1]:\n",
    "            code[j] = codagp[fim2-1]\n",
    "            #rock[j] = rockbase[fim2-1] "
   ]
  },
  {
   "cell_type": "code",
   "execution_count": null,
   "id": "6afebea2",
   "metadata": {},
   "outputs": [],
   "source": []
  },
  {
   "cell_type": "code",
   "execution_count": null,
   "id": "bedaa163",
   "metadata": {},
   "outputs": [],
   "source": []
  }
 ],
 "metadata": {
  "celltoolbar": "Slideshow",
  "kernelspec": {
   "display_name": "Python 3 (ipykernel)",
   "language": "python",
   "name": "python3"
  },
  "language_info": {
   "codemirror_mode": {
    "name": "ipython",
    "version": 3
   },
   "file_extension": ".py",
   "mimetype": "text/x-python",
   "name": "python",
   "nbconvert_exporter": "python",
   "pygments_lexer": "ipython3",
   "version": "3.9.7"
  }
 },
 "nbformat": 4,
 "nbformat_minor": 5
}
